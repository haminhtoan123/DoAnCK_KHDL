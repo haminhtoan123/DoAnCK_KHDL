{
 "cells": [
  {
   "cell_type": "markdown",
   "metadata": {},
   "source": [
    "THU THẬP DỮ LIỆU\n",
    "##Câu hỏi đặt ra: \"Khi nào thì mưa????\"\n",
    "Mưa được tính ra theo công thức nào\n"
   ]
  },
  {
   "cell_type": "code",
   "execution_count": 18,
   "metadata": {},
   "outputs": [],
   "source": [
    "import requests\n",
    "import json\n",
    "import csv\n",
    "\n",
    "%matplotlib inline\n",
    "import matplotlib.pyplot as plt\n",
    "import seaborn as sns # seaborn là thư viện được xây trên matplotlib, giúp việc visualization đỡ khổ hơn\n",
    "import pandas as pd\n",
    "import numpy as np\n",
    "\n",
    "from sklearn.model_selection import train_test_split\n",
    "from sklearn.preprocessing import OneHotEncoder, StandardScaler\n",
    "from sklearn.impute import SimpleImputer\n",
    "from sklearn.base import BaseEstimator, TransformerMixin\n",
    "from sklearn.pipeline import Pipeline, make_pipeline\n",
    "from sklearn.compose import ColumnTransformer, make_column_transformer\n",
    "from sklearn.neural_network import MLPClassifier\n",
    "from sklearn import set_config\n",
    "set_config(display='diagram') # Để trực quan hóa pipeline\n",
    "\n",
    "# You can also import other things ...\n",
    "# YOUR CODE HERE (OPTION)\n",
    "pd.options.mode.chained_assignment = None  # default='warn'"
   ]
  },
  {
   "cell_type": "code",
   "execution_count": 2,
   "metadata": {
    "scrolled": true
   },
   "outputs": [
    {
     "name": "stdout",
     "output_type": "stream",
     "text": [
      "GET http://api.worldweatheronline.com/premium/v1/past-weather.ashx?key=d1f163d12c3742b6a0742358210901&q=Ho Chi Minh&format=json&date=2013-1-01&enddate=2013-1-28&includelocation=yes\n",
      "GET http://api.worldweatheronline.com/premium/v1/past-weather.ashx?key=d1f163d12c3742b6a0742358210901&q=Ho Chi Minh&format=json&date=2013-2-01&enddate=2013-2-28&includelocation=yes\n",
      "GET http://api.worldweatheronline.com/premium/v1/past-weather.ashx?key=d1f163d12c3742b6a0742358210901&q=Ho Chi Minh&format=json&date=2013-3-01&enddate=2013-3-28&includelocation=yes\n",
      "GET http://api.worldweatheronline.com/premium/v1/past-weather.ashx?key=d1f163d12c3742b6a0742358210901&q=Ho Chi Minh&format=json&date=2013-4-01&enddate=2013-4-28&includelocation=yes\n",
      "GET http://api.worldweatheronline.com/premium/v1/past-weather.ashx?key=d1f163d12c3742b6a0742358210901&q=Ho Chi Minh&format=json&date=2013-5-01&enddate=2013-5-28&includelocation=yes\n",
      "GET http://api.worldweatheronline.com/premium/v1/past-weather.ashx?key=d1f163d12c3742b6a0742358210901&q=Ho Chi Minh&format=json&date=2013-6-01&enddate=2013-6-28&includelocation=yes\n",
      "GET http://api.worldweatheronline.com/premium/v1/past-weather.ashx?key=d1f163d12c3742b6a0742358210901&q=Ho Chi Minh&format=json&date=2013-7-01&enddate=2013-7-28&includelocation=yes\n",
      "GET http://api.worldweatheronline.com/premium/v1/past-weather.ashx?key=d1f163d12c3742b6a0742358210901&q=Ho Chi Minh&format=json&date=2013-8-01&enddate=2013-8-28&includelocation=yes\n",
      "GET http://api.worldweatheronline.com/premium/v1/past-weather.ashx?key=d1f163d12c3742b6a0742358210901&q=Ho Chi Minh&format=json&date=2013-9-01&enddate=2013-9-28&includelocation=yes\n",
      "GET http://api.worldweatheronline.com/premium/v1/past-weather.ashx?key=d1f163d12c3742b6a0742358210901&q=Ho Chi Minh&format=json&date=2013-10-01&enddate=2013-10-28&includelocation=yes\n",
      "GET http://api.worldweatheronline.com/premium/v1/past-weather.ashx?key=d1f163d12c3742b6a0742358210901&q=Ho Chi Minh&format=json&date=2013-11-01&enddate=2013-11-28&includelocation=yes\n"
     ]
    }
   ],
   "source": [
    "# request lấy dữ liệu 1 năm 12x30 ngày\n",
    "# ngày 1-> 28 mỗi tháng, tại vì em lười handle \n",
    "# các cột: Ngày + giờ, tempC, Windspeed(km/h),winddir16Point,weatherCode,humidity,visibility(km),pressure,cloudcover\n",
    "\n",
    "\n",
    "elements = []\n",
    "for i in range(1,12):\n",
    "    month = i\n",
    "    url = 'http://api.worldweatheronline.com/premium/v1/past-weather.ashx?key=d1f163d12c3742b6a0742358210901&q=Ho Chi Minh&format=json&date=2013-'+str(month)+'-01&enddate=2013-'+str(month)+'-28&includelocation=yes'\n",
    "\n",
    "    print(f'GET {url}')\n",
    "    r = requests.get(url)\n",
    "    json_pydata = json.loads(r.text)\n",
    "    for day in range(0,27):\n",
    "\n",
    "        for j in range(0,7):\n",
    "            element = []\n",
    "            element.append(json_pydata['data']['weather'][day]['date']+' - ' +json_pydata['data']['weather'][day]['hourly'][j]['time'])\n",
    "            element.append(json_pydata['data']['weather'][day]['hourly'][j]['tempC'])\n",
    "            element.append(json_pydata['data']['weather'][day]['hourly'][j]['windspeedKmph'])\n",
    "            element.append(json_pydata['data']['weather'][day]['hourly'][j]['winddir16Point'])\n",
    "            element.append(json_pydata['data']['weather'][day]['hourly'][j]['weatherCode'])\n",
    "            element.append(json_pydata['data']['weather'][day]['hourly'][j]['humidity'])\n",
    "            element.append(json_pydata['data']['weather'][day]['hourly'][j]['visibility'])\n",
    "\n",
    "            element.append(json_pydata['data']['weather'][i]['hourly'][j]['pressure'])\n",
    "            element.append(json_pydata['data']['weather'][i]['hourly'][j]['cloudcover'])\n",
    "            elements.append(element)\n",
    "       "
   ]
  },
  {
   "cell_type": "markdown",
   "metadata": {},
   "source": [
    "thông tin api: https://www.worldweatheronline.com/developer/api/docs/historical-weather-api.aspx\n",
    "các cột được chọn: \n",
    "Ngày + giờ\n",
    "TempC : Nhiệt độ\n",
    "Windspeed(km/h): tốc độ gió\n",
    "Winddir16Point: hướng gió, trên la bàn 16 hướng\n",
    "WeatherCode: thông tin thời tiết\n",
    "Humidity\n",
    "Visibility(km): tầm nhìn\n",
    "Pressure: áp suất\n",
    "Cloudcover: tỉ lệ che của mây"
   ]
  },
  {
   "cell_type": "code",
   "execution_count": 3,
   "metadata": {},
   "outputs": [],
   "source": [
    "cols =['Day + Time','TempC','Windspeed(km/h)','Windir16Point','WeatherCode','Humidity (%)','Visibility (km)','Pressure (mb)','Cloudcover (%)']\n",
    "data_df = pd.DataFrame(elements, columns=cols)"
   ]
  },
  {
   "cell_type": "code",
   "execution_count": 4,
   "metadata": {
    "scrolled": false
   },
   "outputs": [
    {
     "data": {
      "text/html": [
       "<div>\n",
       "<style scoped>\n",
       "    .dataframe tbody tr th:only-of-type {\n",
       "        vertical-align: middle;\n",
       "    }\n",
       "\n",
       "    .dataframe tbody tr th {\n",
       "        vertical-align: top;\n",
       "    }\n",
       "\n",
       "    .dataframe thead th {\n",
       "        text-align: right;\n",
       "    }\n",
       "</style>\n",
       "<table border=\"1\" class=\"dataframe\">\n",
       "  <thead>\n",
       "    <tr style=\"text-align: right;\">\n",
       "      <th></th>\n",
       "      <th>Day + Time</th>\n",
       "      <th>TempC</th>\n",
       "      <th>Windspeed(km/h)</th>\n",
       "      <th>Windir16Point</th>\n",
       "      <th>WeatherCode</th>\n",
       "      <th>Humidity (%)</th>\n",
       "      <th>Visibility (km)</th>\n",
       "      <th>Pressure (mb)</th>\n",
       "      <th>Cloudcover (%)</th>\n",
       "    </tr>\n",
       "  </thead>\n",
       "  <tbody>\n",
       "    <tr>\n",
       "      <th>0</th>\n",
       "      <td>2013-01-01 - 0</td>\n",
       "      <td>24</td>\n",
       "      <td>3</td>\n",
       "      <td>NNE</td>\n",
       "      <td>113</td>\n",
       "      <td>78</td>\n",
       "      <td>10</td>\n",
       "      <td>1011</td>\n",
       "      <td>20</td>\n",
       "    </tr>\n",
       "    <tr>\n",
       "      <th>1</th>\n",
       "      <td>2013-01-01 - 300</td>\n",
       "      <td>23</td>\n",
       "      <td>4</td>\n",
       "      <td>NNE</td>\n",
       "      <td>113</td>\n",
       "      <td>78</td>\n",
       "      <td>10</td>\n",
       "      <td>1010</td>\n",
       "      <td>22</td>\n",
       "    </tr>\n",
       "    <tr>\n",
       "      <th>2</th>\n",
       "      <td>2013-01-01 - 600</td>\n",
       "      <td>24</td>\n",
       "      <td>6</td>\n",
       "      <td>N</td>\n",
       "      <td>113</td>\n",
       "      <td>78</td>\n",
       "      <td>10</td>\n",
       "      <td>1011</td>\n",
       "      <td>21</td>\n",
       "    </tr>\n",
       "    <tr>\n",
       "      <th>3</th>\n",
       "      <td>2013-01-01 - 900</td>\n",
       "      <td>28</td>\n",
       "      <td>7</td>\n",
       "      <td>N</td>\n",
       "      <td>113</td>\n",
       "      <td>64</td>\n",
       "      <td>10</td>\n",
       "      <td>1012</td>\n",
       "      <td>16</td>\n",
       "    </tr>\n",
       "    <tr>\n",
       "      <th>4</th>\n",
       "      <td>2013-01-01 - 1200</td>\n",
       "      <td>32</td>\n",
       "      <td>3</td>\n",
       "      <td>NNW</td>\n",
       "      <td>113</td>\n",
       "      <td>52</td>\n",
       "      <td>10</td>\n",
       "      <td>1010</td>\n",
       "      <td>14</td>\n",
       "    </tr>\n",
       "    <tr>\n",
       "      <th>...</th>\n",
       "      <td>...</td>\n",
       "      <td>...</td>\n",
       "      <td>...</td>\n",
       "      <td>...</td>\n",
       "      <td>...</td>\n",
       "      <td>...</td>\n",
       "      <td>...</td>\n",
       "      <td>...</td>\n",
       "      <td>...</td>\n",
       "    </tr>\n",
       "    <tr>\n",
       "      <th>2074</th>\n",
       "      <td>2013-11-27 - 600</td>\n",
       "      <td>26</td>\n",
       "      <td>12</td>\n",
       "      <td>ENE</td>\n",
       "      <td>119</td>\n",
       "      <td>89</td>\n",
       "      <td>10</td>\n",
       "      <td>1009</td>\n",
       "      <td>33</td>\n",
       "    </tr>\n",
       "    <tr>\n",
       "      <th>2075</th>\n",
       "      <td>2013-11-27 - 900</td>\n",
       "      <td>30</td>\n",
       "      <td>14</td>\n",
       "      <td>E</td>\n",
       "      <td>113</td>\n",
       "      <td>70</td>\n",
       "      <td>10</td>\n",
       "      <td>1009</td>\n",
       "      <td>20</td>\n",
       "    </tr>\n",
       "    <tr>\n",
       "      <th>2076</th>\n",
       "      <td>2013-11-27 - 1200</td>\n",
       "      <td>32</td>\n",
       "      <td>12</td>\n",
       "      <td>ESE</td>\n",
       "      <td>116</td>\n",
       "      <td>59</td>\n",
       "      <td>10</td>\n",
       "      <td>1007</td>\n",
       "      <td>31</td>\n",
       "    </tr>\n",
       "    <tr>\n",
       "      <th>2077</th>\n",
       "      <td>2013-11-27 - 1500</td>\n",
       "      <td>30</td>\n",
       "      <td>11</td>\n",
       "      <td>ESE</td>\n",
       "      <td>356</td>\n",
       "      <td>72</td>\n",
       "      <td>7</td>\n",
       "      <td>1006</td>\n",
       "      <td>24</td>\n",
       "    </tr>\n",
       "    <tr>\n",
       "      <th>2078</th>\n",
       "      <td>2013-11-27 - 1800</td>\n",
       "      <td>26</td>\n",
       "      <td>6</td>\n",
       "      <td>E</td>\n",
       "      <td>113</td>\n",
       "      <td>89</td>\n",
       "      <td>10</td>\n",
       "      <td>1008</td>\n",
       "      <td>45</td>\n",
       "    </tr>\n",
       "  </tbody>\n",
       "</table>\n",
       "<p>2079 rows × 9 columns</p>\n",
       "</div>"
      ],
      "text/plain": [
       "             Day + Time TempC Windspeed(km/h) Windir16Point WeatherCode  \\\n",
       "0        2013-01-01 - 0    24               3           NNE         113   \n",
       "1      2013-01-01 - 300    23               4           NNE         113   \n",
       "2      2013-01-01 - 600    24               6             N         113   \n",
       "3      2013-01-01 - 900    28               7             N         113   \n",
       "4     2013-01-01 - 1200    32               3           NNW         113   \n",
       "...                 ...   ...             ...           ...         ...   \n",
       "2074   2013-11-27 - 600    26              12           ENE         119   \n",
       "2075   2013-11-27 - 900    30              14             E         113   \n",
       "2076  2013-11-27 - 1200    32              12           ESE         116   \n",
       "2077  2013-11-27 - 1500    30              11           ESE         356   \n",
       "2078  2013-11-27 - 1800    26               6             E         113   \n",
       "\n",
       "     Humidity (%) Visibility (km) Pressure (mb) Cloudcover (%)  \n",
       "0              78              10          1011             20  \n",
       "1              78              10          1010             22  \n",
       "2              78              10          1011             21  \n",
       "3              64              10          1012             16  \n",
       "4              52              10          1010             14  \n",
       "...           ...             ...           ...            ...  \n",
       "2074           89              10          1009             33  \n",
       "2075           70              10          1009             20  \n",
       "2076           59              10          1007             31  \n",
       "2077           72               7          1006             24  \n",
       "2078           89              10          1008             45  \n",
       "\n",
       "[2079 rows x 9 columns]"
      ]
     },
     "execution_count": 4,
     "metadata": {},
     "output_type": "execute_result"
    }
   ],
   "source": [
    "data_df"
   ]
  },
  {
   "cell_type": "code",
   "execution_count": 5,
   "metadata": {},
   "outputs": [],
   "source": [
    "\n",
    "#data_df = pd.read_csv(\"rain.csv\",index_col=None)"
   ]
  },
  {
   "cell_type": "markdown",
   "metadata": {},
   "source": [
    "Chuyển các dữ liệu về dạng số "
   ]
  },
  {
   "cell_type": "code",
   "execution_count": 9,
   "metadata": {},
   "outputs": [
    {
     "data": {
      "text/plain": [
       "Day + Time         object\n",
       "TempC              object\n",
       "Windspeed(km/h)    object\n",
       "Windir16Point      object\n",
       "WeatherCode        object\n",
       "Humidity (%)       object\n",
       "Visibility (km)    object\n",
       "Pressure (mb)      object\n",
       "Cloudcover (%)     object\n",
       "dtype: object"
      ]
     },
     "execution_count": 9,
     "metadata": {},
     "output_type": "execute_result"
    }
   ],
   "source": [
    "data_df.dtypes"
   ]
  },
  {
   "cell_type": "markdown",
   "metadata": {},
   "source": [
    "Gán nhãn cho dữ liệu từ Weather code\n",
    "https://gist.github.com/dawnvoh/a1f513123f7b6a42577d\n",
    "    "
   ]
  },
  {
   "cell_type": "code",
   "execution_count": 10,
   "metadata": {},
   "outputs": [],
   "source": [
    "#Những mã weather code của khi có mưa\n",
    "rain_code = ['389','386','359','356','353','314','311','308','305','302','299','296','293','176']\n",
    "data_df.loc[~data_df[\"WeatherCode\"].isin(rain_code),\"WeatherCode\"] = \"0\"\n",
    "data_df.loc[data_df[\"WeatherCode\"].isin(rain_code),\"WeatherCode\"] = \"1\"\n",
    "data_df = data_df.rename(columns={\"WeatherCode\": \"Rain Or Not\"})"
   ]
  },
  {
   "cell_type": "code",
   "execution_count": 12,
   "metadata": {},
   "outputs": [],
   "source": [
    "def convert_col_dtype(col):\n",
    "    if col.name not in ['Windir16Point', 'Day + Time']:\n",
    "        return pd.to_numeric(col, errors='coerce')\n",
    "    return col\n",
    "data_df = data_df.apply(convert_col_dtype)"
   ]
  },
  {
   "cell_type": "code",
   "execution_count": 14,
   "metadata": {},
   "outputs": [
    {
     "data": {
      "text/html": [
       "<div>\n",
       "<style scoped>\n",
       "    .dataframe tbody tr th:only-of-type {\n",
       "        vertical-align: middle;\n",
       "    }\n",
       "\n",
       "    .dataframe tbody tr th {\n",
       "        vertical-align: top;\n",
       "    }\n",
       "\n",
       "    .dataframe thead th {\n",
       "        text-align: right;\n",
       "    }\n",
       "</style>\n",
       "<table border=\"1\" class=\"dataframe\">\n",
       "  <thead>\n",
       "    <tr style=\"text-align: right;\">\n",
       "      <th></th>\n",
       "      <th>TempC</th>\n",
       "      <th>Windspeed(km/h)</th>\n",
       "      <th>Rain Or Not</th>\n",
       "      <th>Humidity (%)</th>\n",
       "      <th>Visibility (km)</th>\n",
       "      <th>Pressure (mb)</th>\n",
       "      <th>Cloudcover (%)</th>\n",
       "    </tr>\n",
       "  </thead>\n",
       "  <tbody>\n",
       "    <tr>\n",
       "      <th>missing_ratio</th>\n",
       "      <td>0.0</td>\n",
       "      <td>0.0</td>\n",
       "      <td>0.0</td>\n",
       "      <td>0.0</td>\n",
       "      <td>0.0</td>\n",
       "      <td>0.0</td>\n",
       "      <td>0.0</td>\n",
       "    </tr>\n",
       "    <tr>\n",
       "      <th>min</th>\n",
       "      <td>21.0</td>\n",
       "      <td>0.0</td>\n",
       "      <td>0.0</td>\n",
       "      <td>28.0</td>\n",
       "      <td>0.0</td>\n",
       "      <td>1004.0</td>\n",
       "      <td>6.0</td>\n",
       "    </tr>\n",
       "    <tr>\n",
       "      <th>lower_quartile</th>\n",
       "      <td>25.0</td>\n",
       "      <td>6.0</td>\n",
       "      <td>0.0</td>\n",
       "      <td>63.5</td>\n",
       "      <td>10.0</td>\n",
       "      <td>1007.0</td>\n",
       "      <td>19.0</td>\n",
       "    </tr>\n",
       "    <tr>\n",
       "      <th>median</th>\n",
       "      <td>27.0</td>\n",
       "      <td>8.0</td>\n",
       "      <td>0.0</td>\n",
       "      <td>77.0</td>\n",
       "      <td>10.0</td>\n",
       "      <td>1009.0</td>\n",
       "      <td>29.0</td>\n",
       "    </tr>\n",
       "    <tr>\n",
       "      <th>upper_quartile</th>\n",
       "      <td>31.0</td>\n",
       "      <td>11.0</td>\n",
       "      <td>0.0</td>\n",
       "      <td>88.0</td>\n",
       "      <td>10.0</td>\n",
       "      <td>1010.0</td>\n",
       "      <td>45.0</td>\n",
       "    </tr>\n",
       "    <tr>\n",
       "      <th>max</th>\n",
       "      <td>38.0</td>\n",
       "      <td>23.0</td>\n",
       "      <td>1.0</td>\n",
       "      <td>98.0</td>\n",
       "      <td>10.0</td>\n",
       "      <td>1014.0</td>\n",
       "      <td>83.0</td>\n",
       "    </tr>\n",
       "  </tbody>\n",
       "</table>\n",
       "</div>"
      ],
      "text/plain": [
       "                TempC  Windspeed(km/h)  Rain Or Not  Humidity (%)  \\\n",
       "missing_ratio     0.0              0.0          0.0           0.0   \n",
       "min              21.0              0.0          0.0          28.0   \n",
       "lower_quartile   25.0              6.0          0.0          63.5   \n",
       "median           27.0              8.0          0.0          77.0   \n",
       "upper_quartile   31.0             11.0          0.0          88.0   \n",
       "max              38.0             23.0          1.0          98.0   \n",
       "\n",
       "                Visibility (km)  Pressure (mb)  Cloudcover (%)  \n",
       "missing_ratio               0.0            0.0             0.0  \n",
       "min                         0.0         1004.0             6.0  \n",
       "lower_quartile             10.0         1007.0            19.0  \n",
       "median                     10.0         1009.0            29.0  \n",
       "upper_quartile             10.0         1010.0            45.0  \n",
       "max                        10.0         1014.0            83.0  "
      ]
     },
     "execution_count": 14,
     "metadata": {},
     "output_type": "execute_result"
    }
   ],
   "source": [
    "def missing_ratio(s):\n",
    "    return s.isna().mean() * 100\n",
    "def median(df):\n",
    "    return df.quantile(0.5)\n",
    "def lower_quartile(df):\n",
    "    return df.quantile(0.25)\n",
    "def upper_quartile(df):\n",
    "    return df.quantile(0.75)\n",
    "df = data_df.select_dtypes(exclude='object')\n",
    "df.agg([missing_ratio, min, lower_quartile, median, upper_quartile, max])"
   ]
  },
  {
   "cell_type": "code",
   "execution_count": 15,
   "metadata": {
    "scrolled": true
   },
   "outputs": [
    {
     "data": {
      "text/html": [
       "<div>\n",
       "<style scoped>\n",
       "    .dataframe tbody tr th:only-of-type {\n",
       "        vertical-align: middle;\n",
       "    }\n",
       "\n",
       "    .dataframe tbody tr th {\n",
       "        vertical-align: top;\n",
       "    }\n",
       "\n",
       "    .dataframe thead th {\n",
       "        text-align: right;\n",
       "    }\n",
       "</style>\n",
       "<table border=\"1\" class=\"dataframe\">\n",
       "  <thead>\n",
       "    <tr style=\"text-align: right;\">\n",
       "      <th></th>\n",
       "      <th>TempC</th>\n",
       "      <th>Windspeed(km/h)</th>\n",
       "      <th>Rain Or Not</th>\n",
       "      <th>Humidity (%)</th>\n",
       "      <th>Visibility (km)</th>\n",
       "      <th>Pressure (mb)</th>\n",
       "      <th>Cloudcover (%)</th>\n",
       "    </tr>\n",
       "  </thead>\n",
       "  <tbody>\n",
       "    <tr>\n",
       "      <th>missing_ratio</th>\n",
       "      <td>0.0</td>\n",
       "      <td>0.00</td>\n",
       "      <td>0.0</td>\n",
       "      <td>0.00</td>\n",
       "      <td>0.0</td>\n",
       "      <td>0.0</td>\n",
       "      <td>0.0</td>\n",
       "    </tr>\n",
       "    <tr>\n",
       "      <th>min</th>\n",
       "      <td>23.0</td>\n",
       "      <td>1.00</td>\n",
       "      <td>1.0</td>\n",
       "      <td>44.00</td>\n",
       "      <td>3.0</td>\n",
       "      <td>1004.0</td>\n",
       "      <td>9.0</td>\n",
       "    </tr>\n",
       "    <tr>\n",
       "      <th>lower_quartile</th>\n",
       "      <td>27.0</td>\n",
       "      <td>7.75</td>\n",
       "      <td>1.0</td>\n",
       "      <td>65.00</td>\n",
       "      <td>7.0</td>\n",
       "      <td>1005.0</td>\n",
       "      <td>23.0</td>\n",
       "    </tr>\n",
       "    <tr>\n",
       "      <th>median</th>\n",
       "      <td>30.0</td>\n",
       "      <td>10.00</td>\n",
       "      <td>1.0</td>\n",
       "      <td>73.00</td>\n",
       "      <td>9.0</td>\n",
       "      <td>1007.0</td>\n",
       "      <td>29.0</td>\n",
       "    </tr>\n",
       "    <tr>\n",
       "      <th>upper_quartile</th>\n",
       "      <td>31.0</td>\n",
       "      <td>13.00</td>\n",
       "      <td>1.0</td>\n",
       "      <td>82.25</td>\n",
       "      <td>10.0</td>\n",
       "      <td>1009.0</td>\n",
       "      <td>45.0</td>\n",
       "    </tr>\n",
       "    <tr>\n",
       "      <th>max</th>\n",
       "      <td>36.0</td>\n",
       "      <td>23.00</td>\n",
       "      <td>1.0</td>\n",
       "      <td>98.00</td>\n",
       "      <td>10.0</td>\n",
       "      <td>1012.0</td>\n",
       "      <td>83.0</td>\n",
       "    </tr>\n",
       "  </tbody>\n",
       "</table>\n",
       "</div>"
      ],
      "text/plain": [
       "                TempC  Windspeed(km/h)  Rain Or Not  Humidity (%)  \\\n",
       "missing_ratio     0.0             0.00          0.0          0.00   \n",
       "min              23.0             1.00          1.0         44.00   \n",
       "lower_quartile   27.0             7.75          1.0         65.00   \n",
       "median           30.0            10.00          1.0         73.00   \n",
       "upper_quartile   31.0            13.00          1.0         82.25   \n",
       "max              36.0            23.00          1.0         98.00   \n",
       "\n",
       "                Visibility (km)  Pressure (mb)  Cloudcover (%)  \n",
       "missing_ratio               0.0            0.0             0.0  \n",
       "min                         3.0         1004.0             9.0  \n",
       "lower_quartile              7.0         1005.0            23.0  \n",
       "median                      9.0         1007.0            29.0  \n",
       "upper_quartile             10.0         1009.0            45.0  \n",
       "max                        10.0         1012.0            83.0  "
      ]
     },
     "execution_count": 15,
     "metadata": {},
     "output_type": "execute_result"
    }
   ],
   "source": [
    "\n",
    "df = data_df[data_df[\"Rain Or Not\"] == 1].select_dtypes(exclude='object')\n",
    "df.agg([missing_ratio, min, lower_quartile, median, upper_quartile, max])"
   ]
  },
  {
   "cell_type": "code",
   "execution_count": 16,
   "metadata": {},
   "outputs": [],
   "source": [
    "data_df.to_csv(\"rain.csv\",index=False)"
   ]
  },
  {
   "cell_type": "markdown",
   "metadata": {},
   "source": [
    "Split dữ liệu ra test, validation, train"
   ]
  },
  {
   "cell_type": "code",
   "execution_count": 17,
   "metadata": {},
   "outputs": [
    {
     "data": {
      "text/plain": [
       "Day + Time         object\n",
       "TempC               int64\n",
       "Windspeed(km/h)     int64\n",
       "Windir16Point      object\n",
       "Rain Or Not         int64\n",
       "Humidity (%)        int64\n",
       "Visibility (km)     int64\n",
       "Pressure (mb)       int64\n",
       "Cloudcover (%)      int64\n",
       "dtype: object"
      ]
     },
     "execution_count": 17,
     "metadata": {},
     "output_type": "execute_result"
    }
   ],
   "source": [
    "data_df.dtypes"
   ]
  },
  {
   "cell_type": "code",
   "execution_count": 19,
   "metadata": {},
   "outputs": [],
   "source": [
    "#Split dữ liệu\n",
    "y_sr = data_df[\"Rain Or Not\"] \n",
    "X_df = data_df.drop(\"Rain Or Not\", axis=1)"
   ]
  },
  {
   "cell_type": "code",
   "execution_count": 20,
   "metadata": {},
   "outputs": [],
   "source": [
    "# Tách tập huấn luyện và tập validation theo tỉ lệ 70%:30%\n",
    "train_X_df, val_X_df, train_y_sr, val_y_sr = train_test_split(X_df, y_sr, test_size=0.3, \n",
    "                                                              stratify=y_sr, random_state=0)"
   ]
  },
  {
   "cell_type": "markdown",
   "metadata": {},
   "source": [
    "Transform các thứ các kiểu"
   ]
  },
  {
   "cell_type": "code",
   "execution_count": 23,
   "metadata": {},
   "outputs": [],
   "source": [
    "#Dùng OneHotEncoder lên hướng gió\n",
    "class Dropper(BaseEstimator, TransformerMixin):\n",
    "    def transform(self, X_df, y=None):\n",
    "        return X_df.drop(\"Day + Time\")"
   ]
  },
  {
   "cell_type": "code",
   "execution_count": 24,
   "metadata": {},
   "outputs": [],
   "source": [
    "prep = ColumnTransformer(\n",
    "    transformers=[\n",
    "        ('cat',  OneHotEncoder(handle_unknown='ignore'), ['Windir16Point'])\n",
    "    ])\n",
    "\n",
    "preprocess_pipeline =Pipeline( \n",
    "    steps=[\n",
    "        ('Drop',Dropper),\n",
    "        ('prep',prep),\n",
    "        ('scaler', StandardScaler())])  \n"
   ]
  },
  {
   "cell_type": "code",
   "execution_count": 26,
   "metadata": {},
   "outputs": [
    {
     "ename": "TypeError",
     "evalue": "get_params() missing 1 required positional argument: 'self'",
     "output_type": "error",
     "traceback": [
      "\u001b[1;31m---------------------------------------------------------------------------\u001b[0m",
      "\u001b[1;31mTypeError\u001b[0m                                 Traceback (most recent call last)",
      "\u001b[1;32m~\\anaconda3\\lib\\site-packages\\IPython\\core\\formatters.py\u001b[0m in \u001b[0;36m__call__\u001b[1;34m(self, obj, include, exclude)\u001b[0m\n\u001b[0;32m    968\u001b[0m \u001b[1;33m\u001b[0m\u001b[0m\n\u001b[0;32m    969\u001b[0m             \u001b[1;32mif\u001b[0m \u001b[0mmethod\u001b[0m \u001b[1;32mis\u001b[0m \u001b[1;32mnot\u001b[0m \u001b[1;32mNone\u001b[0m\u001b[1;33m:\u001b[0m\u001b[1;33m\u001b[0m\u001b[1;33m\u001b[0m\u001b[0m\n\u001b[1;32m--> 970\u001b[1;33m                 \u001b[1;32mreturn\u001b[0m \u001b[0mmethod\u001b[0m\u001b[1;33m(\u001b[0m\u001b[0minclude\u001b[0m\u001b[1;33m=\u001b[0m\u001b[0minclude\u001b[0m\u001b[1;33m,\u001b[0m \u001b[0mexclude\u001b[0m\u001b[1;33m=\u001b[0m\u001b[0mexclude\u001b[0m\u001b[1;33m)\u001b[0m\u001b[1;33m\u001b[0m\u001b[1;33m\u001b[0m\u001b[0m\n\u001b[0m\u001b[0;32m    971\u001b[0m             \u001b[1;32mreturn\u001b[0m \u001b[1;32mNone\u001b[0m\u001b[1;33m\u001b[0m\u001b[1;33m\u001b[0m\u001b[0m\n\u001b[0;32m    972\u001b[0m         \u001b[1;32melse\u001b[0m\u001b[1;33m:\u001b[0m\u001b[1;33m\u001b[0m\u001b[1;33m\u001b[0m\u001b[0m\n",
      "\u001b[1;32m~\\anaconda3\\lib\\site-packages\\sklearn\\base.py\u001b[0m in \u001b[0;36m_repr_mimebundle_\u001b[1;34m(self, **kwargs)\u001b[0m\n\u001b[0;32m    463\u001b[0m         \u001b[0moutput\u001b[0m \u001b[1;33m=\u001b[0m \u001b[1;33m{\u001b[0m\u001b[1;34m\"text/plain\"\u001b[0m\u001b[1;33m:\u001b[0m \u001b[0mrepr\u001b[0m\u001b[1;33m(\u001b[0m\u001b[0mself\u001b[0m\u001b[1;33m)\u001b[0m\u001b[1;33m}\u001b[0m\u001b[1;33m\u001b[0m\u001b[1;33m\u001b[0m\u001b[0m\n\u001b[0;32m    464\u001b[0m         \u001b[1;32mif\u001b[0m \u001b[0mget_config\u001b[0m\u001b[1;33m(\u001b[0m\u001b[1;33m)\u001b[0m\u001b[1;33m[\u001b[0m\u001b[1;34m\"display\"\u001b[0m\u001b[1;33m]\u001b[0m \u001b[1;33m==\u001b[0m \u001b[1;34m'diagram'\u001b[0m\u001b[1;33m:\u001b[0m\u001b[1;33m\u001b[0m\u001b[1;33m\u001b[0m\u001b[0m\n\u001b[1;32m--> 465\u001b[1;33m             \u001b[0moutput\u001b[0m\u001b[1;33m[\u001b[0m\u001b[1;34m\"text/html\"\u001b[0m\u001b[1;33m]\u001b[0m \u001b[1;33m=\u001b[0m \u001b[0mestimator_html_repr\u001b[0m\u001b[1;33m(\u001b[0m\u001b[0mself\u001b[0m\u001b[1;33m)\u001b[0m\u001b[1;33m\u001b[0m\u001b[1;33m\u001b[0m\u001b[0m\n\u001b[0m\u001b[0;32m    466\u001b[0m         \u001b[1;32mreturn\u001b[0m \u001b[0moutput\u001b[0m\u001b[1;33m\u001b[0m\u001b[1;33m\u001b[0m\u001b[0m\n\u001b[0;32m    467\u001b[0m \u001b[1;33m\u001b[0m\u001b[0m\n",
      "\u001b[1;32m~\\anaconda3\\lib\\site-packages\\sklearn\\utils\\_estimator_html_repr.py\u001b[0m in \u001b[0;36mestimator_html_repr\u001b[1;34m(estimator)\u001b[0m\n\u001b[0;32m    304\u001b[0m         out.write(f'<style>{_STYLE}</style>'\n\u001b[0;32m    305\u001b[0m                   f'<div class=\"sk-top-container\"><div class=\"sk-container\">')\n\u001b[1;32m--> 306\u001b[1;33m         _write_estimator_html(out, estimator, estimator.__class__.__name__,\n\u001b[0m\u001b[0;32m    307\u001b[0m                               str(estimator), first_call=True)\n\u001b[0;32m    308\u001b[0m         \u001b[0mout\u001b[0m\u001b[1;33m.\u001b[0m\u001b[0mwrite\u001b[0m\u001b[1;33m(\u001b[0m\u001b[1;34m'</div></div>'\u001b[0m\u001b[1;33m)\u001b[0m\u001b[1;33m\u001b[0m\u001b[1;33m\u001b[0m\u001b[0m\n",
      "\u001b[1;32m~\\anaconda3\\lib\\site-packages\\sklearn\\utils\\_estimator_html_repr.py\u001b[0m in \u001b[0;36m_write_estimator_html\u001b[1;34m(out, estimator, estimator_label, estimator_label_details, first_call)\u001b[0m\n\u001b[0;32m    130\u001b[0m         \u001b[1;32mfor\u001b[0m \u001b[0mest\u001b[0m\u001b[1;33m,\u001b[0m \u001b[0mname\u001b[0m\u001b[1;33m,\u001b[0m \u001b[0mname_details\u001b[0m \u001b[1;32min\u001b[0m \u001b[0mest_infos\u001b[0m\u001b[1;33m:\u001b[0m\u001b[1;33m\u001b[0m\u001b[1;33m\u001b[0m\u001b[0m\n\u001b[0;32m    131\u001b[0m             \u001b[1;32mif\u001b[0m \u001b[0mkind\u001b[0m \u001b[1;33m==\u001b[0m \u001b[1;34m'serial'\u001b[0m\u001b[1;33m:\u001b[0m\u001b[1;33m\u001b[0m\u001b[1;33m\u001b[0m\u001b[0m\n\u001b[1;32m--> 132\u001b[1;33m                 \u001b[0m_write_estimator_html\u001b[0m\u001b[1;33m(\u001b[0m\u001b[0mout\u001b[0m\u001b[1;33m,\u001b[0m \u001b[0mest\u001b[0m\u001b[1;33m,\u001b[0m \u001b[0mname\u001b[0m\u001b[1;33m,\u001b[0m \u001b[0mname_details\u001b[0m\u001b[1;33m)\u001b[0m\u001b[1;33m\u001b[0m\u001b[1;33m\u001b[0m\u001b[0m\n\u001b[0m\u001b[0;32m    133\u001b[0m             \u001b[1;32melse\u001b[0m\u001b[1;33m:\u001b[0m  \u001b[1;31m# parallel\u001b[0m\u001b[1;33m\u001b[0m\u001b[1;33m\u001b[0m\u001b[0m\n\u001b[0;32m    134\u001b[0m                 \u001b[0mout\u001b[0m\u001b[1;33m.\u001b[0m\u001b[0mwrite\u001b[0m\u001b[1;33m(\u001b[0m\u001b[1;34m'<div class=\"sk-parallel-item\">'\u001b[0m\u001b[1;33m)\u001b[0m\u001b[1;33m\u001b[0m\u001b[1;33m\u001b[0m\u001b[0m\n",
      "\u001b[1;32m~\\anaconda3\\lib\\site-packages\\sklearn\\utils\\_estimator_html_repr.py\u001b[0m in \u001b[0;36m_write_estimator_html\u001b[1;34m(out, estimator, estimator_label, estimator_label_details, first_call)\u001b[0m\n\u001b[0;32m    113\u001b[0m     \u001b[1;32melse\u001b[0m\u001b[1;33m:\u001b[0m\u001b[1;33m\u001b[0m\u001b[1;33m\u001b[0m\u001b[0m\n\u001b[0;32m    114\u001b[0m         \u001b[1;32mwith\u001b[0m \u001b[0mconfig_context\u001b[0m\u001b[1;33m(\u001b[0m\u001b[0mprint_changed_only\u001b[0m\u001b[1;33m=\u001b[0m\u001b[1;32mTrue\u001b[0m\u001b[1;33m)\u001b[0m\u001b[1;33m:\u001b[0m\u001b[1;33m\u001b[0m\u001b[1;33m\u001b[0m\u001b[0m\n\u001b[1;32m--> 115\u001b[1;33m             \u001b[0mest_block\u001b[0m \u001b[1;33m=\u001b[0m \u001b[0m_get_visual_block\u001b[0m\u001b[1;33m(\u001b[0m\u001b[0mestimator\u001b[0m\u001b[1;33m)\u001b[0m\u001b[1;33m\u001b[0m\u001b[1;33m\u001b[0m\u001b[0m\n\u001b[0m\u001b[0;32m    116\u001b[0m \u001b[1;33m\u001b[0m\u001b[0m\n\u001b[0;32m    117\u001b[0m     \u001b[1;32mif\u001b[0m \u001b[0mest_block\u001b[0m\u001b[1;33m.\u001b[0m\u001b[0mkind\u001b[0m \u001b[1;32min\u001b[0m \u001b[1;33m(\u001b[0m\u001b[1;34m'serial'\u001b[0m\u001b[1;33m,\u001b[0m \u001b[1;34m'parallel'\u001b[0m\u001b[1;33m)\u001b[0m\u001b[1;33m:\u001b[0m\u001b[1;33m\u001b[0m\u001b[1;33m\u001b[0m\u001b[0m\n",
      "\u001b[1;32m~\\anaconda3\\lib\\site-packages\\sklearn\\utils\\_estimator_html_repr.py\u001b[0m in \u001b[0;36m_get_visual_block\u001b[1;34m(estimator)\u001b[0m\n\u001b[0;32m     93\u001b[0m     \u001b[1;32mif\u001b[0m \u001b[0mhasattr\u001b[0m\u001b[1;33m(\u001b[0m\u001b[0mestimator\u001b[0m\u001b[1;33m,\u001b[0m \u001b[1;34m'get_params'\u001b[0m\u001b[1;33m)\u001b[0m\u001b[1;33m:\u001b[0m\u001b[1;33m\u001b[0m\u001b[1;33m\u001b[0m\u001b[0m\n\u001b[0;32m     94\u001b[0m         \u001b[0mestimators\u001b[0m \u001b[1;33m=\u001b[0m \u001b[1;33m[\u001b[0m\u001b[1;33m]\u001b[0m\u001b[1;33m\u001b[0m\u001b[1;33m\u001b[0m\u001b[0m\n\u001b[1;32m---> 95\u001b[1;33m         \u001b[1;32mfor\u001b[0m \u001b[0mkey\u001b[0m\u001b[1;33m,\u001b[0m \u001b[0mvalue\u001b[0m \u001b[1;32min\u001b[0m \u001b[0mestimator\u001b[0m\u001b[1;33m.\u001b[0m\u001b[0mget_params\u001b[0m\u001b[1;33m(\u001b[0m\u001b[1;33m)\u001b[0m\u001b[1;33m.\u001b[0m\u001b[0mitems\u001b[0m\u001b[1;33m(\u001b[0m\u001b[1;33m)\u001b[0m\u001b[1;33m:\u001b[0m\u001b[1;33m\u001b[0m\u001b[1;33m\u001b[0m\u001b[0m\n\u001b[0m\u001b[0;32m     96\u001b[0m             \u001b[1;31m# Only look at the estimators in the first layer\u001b[0m\u001b[1;33m\u001b[0m\u001b[1;33m\u001b[0m\u001b[1;33m\u001b[0m\u001b[0m\n\u001b[0;32m     97\u001b[0m             \u001b[1;32mif\u001b[0m \u001b[1;34m'__'\u001b[0m \u001b[1;32mnot\u001b[0m \u001b[1;32min\u001b[0m \u001b[0mkey\u001b[0m \u001b[1;32mand\u001b[0m \u001b[0mhasattr\u001b[0m\u001b[1;33m(\u001b[0m\u001b[0mvalue\u001b[0m\u001b[1;33m,\u001b[0m \u001b[1;34m'get_params'\u001b[0m\u001b[1;33m)\u001b[0m\u001b[1;33m:\u001b[0m\u001b[1;33m\u001b[0m\u001b[1;33m\u001b[0m\u001b[0m\n",
      "\u001b[1;31mTypeError\u001b[0m: get_params() missing 1 required positional argument: 'self'"
     ]
    },
    {
     "ename": "TypeError",
     "evalue": "get_params() missing 1 required positional argument: 'self'",
     "output_type": "error",
     "traceback": [
      "\u001b[1;31m---------------------------------------------------------------------------\u001b[0m",
      "\u001b[1;31mTypeError\u001b[0m                                 Traceback (most recent call last)",
      "\u001b[1;32m~\\anaconda3\\lib\\site-packages\\IPython\\core\\formatters.py\u001b[0m in \u001b[0;36m__call__\u001b[1;34m(self, obj)\u001b[0m\n\u001b[0;32m    343\u001b[0m             \u001b[0mmethod\u001b[0m \u001b[1;33m=\u001b[0m \u001b[0mget_real_method\u001b[0m\u001b[1;33m(\u001b[0m\u001b[0mobj\u001b[0m\u001b[1;33m,\u001b[0m \u001b[0mself\u001b[0m\u001b[1;33m.\u001b[0m\u001b[0mprint_method\u001b[0m\u001b[1;33m)\u001b[0m\u001b[1;33m\u001b[0m\u001b[1;33m\u001b[0m\u001b[0m\n\u001b[0;32m    344\u001b[0m             \u001b[1;32mif\u001b[0m \u001b[0mmethod\u001b[0m \u001b[1;32mis\u001b[0m \u001b[1;32mnot\u001b[0m \u001b[1;32mNone\u001b[0m\u001b[1;33m:\u001b[0m\u001b[1;33m\u001b[0m\u001b[1;33m\u001b[0m\u001b[0m\n\u001b[1;32m--> 345\u001b[1;33m                 \u001b[1;32mreturn\u001b[0m \u001b[0mmethod\u001b[0m\u001b[1;33m(\u001b[0m\u001b[1;33m)\u001b[0m\u001b[1;33m\u001b[0m\u001b[1;33m\u001b[0m\u001b[0m\n\u001b[0m\u001b[0;32m    346\u001b[0m             \u001b[1;32mreturn\u001b[0m \u001b[1;32mNone\u001b[0m\u001b[1;33m\u001b[0m\u001b[1;33m\u001b[0m\u001b[0m\n\u001b[0;32m    347\u001b[0m         \u001b[1;32melse\u001b[0m\u001b[1;33m:\u001b[0m\u001b[1;33m\u001b[0m\u001b[1;33m\u001b[0m\u001b[0m\n",
      "\u001b[1;32m~\\anaconda3\\lib\\site-packages\\sklearn\\base.py\u001b[0m in \u001b[0;36m_repr_html_inner\u001b[1;34m(self)\u001b[0m\n\u001b[0;32m    457\u001b[0m         \u001b[0mon\u001b[0m\u001b[0;31m \u001b[0m\u001b[0;31m`\u001b[0m\u001b[0mget_config\u001b[0m\u001b[1;33m(\u001b[0m\u001b[1;33m)\u001b[0m\u001b[1;33m[\u001b[0m\u001b[1;34m\"display\"\u001b[0m\u001b[1;33m]\u001b[0m\u001b[0;31m`\u001b[0m\u001b[1;33m.\u001b[0m\u001b[1;33m\u001b[0m\u001b[1;33m\u001b[0m\u001b[0m\n\u001b[0;32m    458\u001b[0m         \"\"\"\n\u001b[1;32m--> 459\u001b[1;33m         \u001b[1;32mreturn\u001b[0m \u001b[0mestimator_html_repr\u001b[0m\u001b[1;33m(\u001b[0m\u001b[0mself\u001b[0m\u001b[1;33m)\u001b[0m\u001b[1;33m\u001b[0m\u001b[1;33m\u001b[0m\u001b[0m\n\u001b[0m\u001b[0;32m    460\u001b[0m \u001b[1;33m\u001b[0m\u001b[0m\n\u001b[0;32m    461\u001b[0m     \u001b[1;32mdef\u001b[0m \u001b[0m_repr_mimebundle_\u001b[0m\u001b[1;33m(\u001b[0m\u001b[0mself\u001b[0m\u001b[1;33m,\u001b[0m \u001b[1;33m**\u001b[0m\u001b[0mkwargs\u001b[0m\u001b[1;33m)\u001b[0m\u001b[1;33m:\u001b[0m\u001b[1;33m\u001b[0m\u001b[1;33m\u001b[0m\u001b[0m\n",
      "\u001b[1;32m~\\anaconda3\\lib\\site-packages\\sklearn\\utils\\_estimator_html_repr.py\u001b[0m in \u001b[0;36mestimator_html_repr\u001b[1;34m(estimator)\u001b[0m\n\u001b[0;32m    304\u001b[0m         out.write(f'<style>{_STYLE}</style>'\n\u001b[0;32m    305\u001b[0m                   f'<div class=\"sk-top-container\"><div class=\"sk-container\">')\n\u001b[1;32m--> 306\u001b[1;33m         _write_estimator_html(out, estimator, estimator.__class__.__name__,\n\u001b[0m\u001b[0;32m    307\u001b[0m                               str(estimator), first_call=True)\n\u001b[0;32m    308\u001b[0m         \u001b[0mout\u001b[0m\u001b[1;33m.\u001b[0m\u001b[0mwrite\u001b[0m\u001b[1;33m(\u001b[0m\u001b[1;34m'</div></div>'\u001b[0m\u001b[1;33m)\u001b[0m\u001b[1;33m\u001b[0m\u001b[1;33m\u001b[0m\u001b[0m\n",
      "\u001b[1;32m~\\anaconda3\\lib\\site-packages\\sklearn\\utils\\_estimator_html_repr.py\u001b[0m in \u001b[0;36m_write_estimator_html\u001b[1;34m(out, estimator, estimator_label, estimator_label_details, first_call)\u001b[0m\n\u001b[0;32m    130\u001b[0m         \u001b[1;32mfor\u001b[0m \u001b[0mest\u001b[0m\u001b[1;33m,\u001b[0m \u001b[0mname\u001b[0m\u001b[1;33m,\u001b[0m \u001b[0mname_details\u001b[0m \u001b[1;32min\u001b[0m \u001b[0mest_infos\u001b[0m\u001b[1;33m:\u001b[0m\u001b[1;33m\u001b[0m\u001b[1;33m\u001b[0m\u001b[0m\n\u001b[0;32m    131\u001b[0m             \u001b[1;32mif\u001b[0m \u001b[0mkind\u001b[0m \u001b[1;33m==\u001b[0m \u001b[1;34m'serial'\u001b[0m\u001b[1;33m:\u001b[0m\u001b[1;33m\u001b[0m\u001b[1;33m\u001b[0m\u001b[0m\n\u001b[1;32m--> 132\u001b[1;33m                 \u001b[0m_write_estimator_html\u001b[0m\u001b[1;33m(\u001b[0m\u001b[0mout\u001b[0m\u001b[1;33m,\u001b[0m \u001b[0mest\u001b[0m\u001b[1;33m,\u001b[0m \u001b[0mname\u001b[0m\u001b[1;33m,\u001b[0m \u001b[0mname_details\u001b[0m\u001b[1;33m)\u001b[0m\u001b[1;33m\u001b[0m\u001b[1;33m\u001b[0m\u001b[0m\n\u001b[0m\u001b[0;32m    133\u001b[0m             \u001b[1;32melse\u001b[0m\u001b[1;33m:\u001b[0m  \u001b[1;31m# parallel\u001b[0m\u001b[1;33m\u001b[0m\u001b[1;33m\u001b[0m\u001b[0m\n\u001b[0;32m    134\u001b[0m                 \u001b[0mout\u001b[0m\u001b[1;33m.\u001b[0m\u001b[0mwrite\u001b[0m\u001b[1;33m(\u001b[0m\u001b[1;34m'<div class=\"sk-parallel-item\">'\u001b[0m\u001b[1;33m)\u001b[0m\u001b[1;33m\u001b[0m\u001b[1;33m\u001b[0m\u001b[0m\n",
      "\u001b[1;32m~\\anaconda3\\lib\\site-packages\\sklearn\\utils\\_estimator_html_repr.py\u001b[0m in \u001b[0;36m_write_estimator_html\u001b[1;34m(out, estimator, estimator_label, estimator_label_details, first_call)\u001b[0m\n\u001b[0;32m    113\u001b[0m     \u001b[1;32melse\u001b[0m\u001b[1;33m:\u001b[0m\u001b[1;33m\u001b[0m\u001b[1;33m\u001b[0m\u001b[0m\n\u001b[0;32m    114\u001b[0m         \u001b[1;32mwith\u001b[0m \u001b[0mconfig_context\u001b[0m\u001b[1;33m(\u001b[0m\u001b[0mprint_changed_only\u001b[0m\u001b[1;33m=\u001b[0m\u001b[1;32mTrue\u001b[0m\u001b[1;33m)\u001b[0m\u001b[1;33m:\u001b[0m\u001b[1;33m\u001b[0m\u001b[1;33m\u001b[0m\u001b[0m\n\u001b[1;32m--> 115\u001b[1;33m             \u001b[0mest_block\u001b[0m \u001b[1;33m=\u001b[0m \u001b[0m_get_visual_block\u001b[0m\u001b[1;33m(\u001b[0m\u001b[0mestimator\u001b[0m\u001b[1;33m)\u001b[0m\u001b[1;33m\u001b[0m\u001b[1;33m\u001b[0m\u001b[0m\n\u001b[0m\u001b[0;32m    116\u001b[0m \u001b[1;33m\u001b[0m\u001b[0m\n\u001b[0;32m    117\u001b[0m     \u001b[1;32mif\u001b[0m \u001b[0mest_block\u001b[0m\u001b[1;33m.\u001b[0m\u001b[0mkind\u001b[0m \u001b[1;32min\u001b[0m \u001b[1;33m(\u001b[0m\u001b[1;34m'serial'\u001b[0m\u001b[1;33m,\u001b[0m \u001b[1;34m'parallel'\u001b[0m\u001b[1;33m)\u001b[0m\u001b[1;33m:\u001b[0m\u001b[1;33m\u001b[0m\u001b[1;33m\u001b[0m\u001b[0m\n",
      "\u001b[1;32m~\\anaconda3\\lib\\site-packages\\sklearn\\utils\\_estimator_html_repr.py\u001b[0m in \u001b[0;36m_get_visual_block\u001b[1;34m(estimator)\u001b[0m\n\u001b[0;32m     93\u001b[0m     \u001b[1;32mif\u001b[0m \u001b[0mhasattr\u001b[0m\u001b[1;33m(\u001b[0m\u001b[0mestimator\u001b[0m\u001b[1;33m,\u001b[0m \u001b[1;34m'get_params'\u001b[0m\u001b[1;33m)\u001b[0m\u001b[1;33m:\u001b[0m\u001b[1;33m\u001b[0m\u001b[1;33m\u001b[0m\u001b[0m\n\u001b[0;32m     94\u001b[0m         \u001b[0mestimators\u001b[0m \u001b[1;33m=\u001b[0m \u001b[1;33m[\u001b[0m\u001b[1;33m]\u001b[0m\u001b[1;33m\u001b[0m\u001b[1;33m\u001b[0m\u001b[0m\n\u001b[1;32m---> 95\u001b[1;33m         \u001b[1;32mfor\u001b[0m \u001b[0mkey\u001b[0m\u001b[1;33m,\u001b[0m \u001b[0mvalue\u001b[0m \u001b[1;32min\u001b[0m \u001b[0mestimator\u001b[0m\u001b[1;33m.\u001b[0m\u001b[0mget_params\u001b[0m\u001b[1;33m(\u001b[0m\u001b[1;33m)\u001b[0m\u001b[1;33m.\u001b[0m\u001b[0mitems\u001b[0m\u001b[1;33m(\u001b[0m\u001b[1;33m)\u001b[0m\u001b[1;33m:\u001b[0m\u001b[1;33m\u001b[0m\u001b[1;33m\u001b[0m\u001b[0m\n\u001b[0m\u001b[0;32m     96\u001b[0m             \u001b[1;31m# Only look at the estimators in the first layer\u001b[0m\u001b[1;33m\u001b[0m\u001b[1;33m\u001b[0m\u001b[1;33m\u001b[0m\u001b[0m\n\u001b[0;32m     97\u001b[0m             \u001b[1;32mif\u001b[0m \u001b[1;34m'__'\u001b[0m \u001b[1;32mnot\u001b[0m \u001b[1;32min\u001b[0m \u001b[0mkey\u001b[0m \u001b[1;32mand\u001b[0m \u001b[0mhasattr\u001b[0m\u001b[1;33m(\u001b[0m\u001b[0mvalue\u001b[0m\u001b[1;33m,\u001b[0m \u001b[1;34m'get_params'\u001b[0m\u001b[1;33m)\u001b[0m\u001b[1;33m:\u001b[0m\u001b[1;33m\u001b[0m\u001b[1;33m\u001b[0m\u001b[0m\n",
      "\u001b[1;31mTypeError\u001b[0m: get_params() missing 1 required positional argument: 'self'"
     ]
    },
    {
     "data": {
      "text/plain": [
       "Pipeline(steps=[('Drop', <class '__main__.Dropper'>),\n",
       "                ('prep',\n",
       "                 ColumnTransformer(transformers=[('cat',\n",
       "                                                  OneHotEncoder(handle_unknown='ignore'),\n",
       "                                                  ['Windir16Point'])])),\n",
       "                ('scaler', StandardScaler())])"
      ]
     },
     "execution_count": 26,
     "metadata": {},
     "output_type": "execute_result"
    }
   ],
   "source": [
    "preprocess_pipeline"
   ]
  },
  {
   "cell_type": "code",
   "execution_count": null,
   "metadata": {},
   "outputs": [],
   "source": []
  }
 ],
 "metadata": {
  "kernelspec": {
   "display_name": "Python 3",
   "language": "python",
   "name": "python3"
  },
  "language_info": {
   "codemirror_mode": {
    "name": "ipython",
    "version": 3
   },
   "file_extension": ".py",
   "mimetype": "text/x-python",
   "name": "python",
   "nbconvert_exporter": "python",
   "pygments_lexer": "ipython3",
   "version": "3.8.3"
  },
  "toc": {
   "base_numbering": 1,
   "nav_menu": {},
   "number_sections": true,
   "sideBar": true,
   "skip_h1_title": false,
   "title_cell": "Table of Contents",
   "title_sidebar": "Contents",
   "toc_cell": false,
   "toc_position": {},
   "toc_section_display": true,
   "toc_window_display": false
  }
 },
 "nbformat": 4,
 "nbformat_minor": 4
}

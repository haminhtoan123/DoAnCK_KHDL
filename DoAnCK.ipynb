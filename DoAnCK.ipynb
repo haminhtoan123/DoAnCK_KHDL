{
 "cells": [
  {
   "cell_type": "markdown",
   "metadata": {},
   "source": [
    "# Từ những thông tin như: Hướng gió, độ ẩm, nhiệt độ, áp suất môi trường,... mà chúng ta có được, có thể kết luận vào ngày hôm đó có mưa hay không?\n",
    "\n",
    " Trong cuộc sống thì chúng ta có rất nhiều việc bị phụ thuộc vào những cơn mưa, chẳng hạn như việc tưới cây, nếu trời mưa thì chúng ta không phải tưới cây mà thay vào đó có thể pha 1 ly cà phê, mở một bản nhạc và vừa uống cà phê, vừa ngắm mưa. Thật thú vị đúng không nào?\n",
    "\n",
    " Cũng có thể trong những công việc khác, người ta thu thập được các dữ liệu về độ ẩm, nhiệt độ, áp suất nhưng vô tình không có được dữ liệu về việc trời hôm đó có mưa hay không. Việc giải quyết được bài toán này có thể giúp ích rất nhiều trong chuyện đó.\n",
    " \n",
    " Chính vì lý do đó, nhóm em quyết định sẽ chọn chủ đề cho đồ án cuối kì là việc đi tìm lời giải cho câu hỏi `Ngày hôm đó có mưa hay không?` từ những thông tin có đã có được.\n",
    " "
   ]
  },
  {
   "cell_type": "code",
   "execution_count": 40,
   "metadata": {},
   "outputs": [],
   "source": [
    "import requests\n",
    "import json\n",
    "import csv\n",
    "\n",
    "%matplotlib inline\n",
    "import matplotlib.pyplot as plt\n",
    "import seaborn as sns # seaborn là thư viện được xây trên matplotlib, giúp việc visualization đỡ khổ hơn\n",
    "import pandas as pd\n",
    "import numpy as np\n",
    "\n",
    "from sklearn.model_selection import train_test_split\n",
    "from sklearn.preprocessing import OneHotEncoder, StandardScaler\n",
    "from sklearn.impute import SimpleImputer\n",
    "from sklearn.base import BaseEstimator, TransformerMixin\n",
    "from sklearn.pipeline import Pipeline, make_pipeline\n",
    "from sklearn.compose import ColumnTransformer, make_column_transformer\n",
    "from sklearn.neural_network import MLPClassifier\n",
    "from sklearn import set_config\n",
    "import sklearn\n",
    "set_config(display='diagram') # Để trực quan hóa pipeline\n",
    "pd.options.mode.chained_assignment = None  # default='warn'"
   ]
  },
  {
   "cell_type": "markdown",
   "metadata": {},
   "source": [
    "# 1. Thu thập dữ liệu\n",
    "- Việc thu thập dữ liệu trong đồ án này, nhóm em quyết định thu thập dữ liệu thời tiết bằng API....\n",
    "Link: https://www.worldweatheronline.com/developer/api/docs/historical-weather-api.aspx\n",
    "- API mất phí không? Đây là một api có tính phí với 15$/1 tháng, nhưng họ cho free trial 60 ngày (với giới hạn 500 request) đầu nên nhóm quyết định lấy dữ liệu vào bài học.\n",
    "- Dữ liệu được lấy bằng cách request vào api, thông tin request json được ghi ở trong file slide.pdf\n",
    "- Tập dữ liệu trong notebook là dữ liệu thời tiết trong 1 năm.\n",
    "\n"
   ]
  },
  {
   "cell_type": "code",
   "execution_count": 41,
   "metadata": {
    "scrolled": false
   },
   "outputs": [
    {
     "name": "stdout",
     "output_type": "stream",
     "text": [
      "GET http://api.worldweatheronline.com/premium/v1/past-weather.ashx?key=d1f163d12c3742b6a0742358210901&q=Ho Chi Minh&format=json&date=2013-1-01&enddate=2013-1-28&includelocation=yes\n",
      "GET http://api.worldweatheronline.com/premium/v1/past-weather.ashx?key=d1f163d12c3742b6a0742358210901&q=Ho Chi Minh&format=json&date=2013-2-01&enddate=2013-2-28&includelocation=yes\n",
      "GET http://api.worldweatheronline.com/premium/v1/past-weather.ashx?key=d1f163d12c3742b6a0742358210901&q=Ho Chi Minh&format=json&date=2013-3-01&enddate=2013-3-28&includelocation=yes\n",
      "GET http://api.worldweatheronline.com/premium/v1/past-weather.ashx?key=d1f163d12c3742b6a0742358210901&q=Ho Chi Minh&format=json&date=2013-4-01&enddate=2013-4-28&includelocation=yes\n",
      "GET http://api.worldweatheronline.com/premium/v1/past-weather.ashx?key=d1f163d12c3742b6a0742358210901&q=Ho Chi Minh&format=json&date=2013-5-01&enddate=2013-5-28&includelocation=yes\n",
      "GET http://api.worldweatheronline.com/premium/v1/past-weather.ashx?key=d1f163d12c3742b6a0742358210901&q=Ho Chi Minh&format=json&date=2013-6-01&enddate=2013-6-28&includelocation=yes\n",
      "GET http://api.worldweatheronline.com/premium/v1/past-weather.ashx?key=d1f163d12c3742b6a0742358210901&q=Ho Chi Minh&format=json&date=2013-7-01&enddate=2013-7-28&includelocation=yes\n",
      "GET http://api.worldweatheronline.com/premium/v1/past-weather.ashx?key=d1f163d12c3742b6a0742358210901&q=Ho Chi Minh&format=json&date=2013-8-01&enddate=2013-8-28&includelocation=yes\n",
      "GET http://api.worldweatheronline.com/premium/v1/past-weather.ashx?key=d1f163d12c3742b6a0742358210901&q=Ho Chi Minh&format=json&date=2013-9-01&enddate=2013-9-28&includelocation=yes\n",
      "GET http://api.worldweatheronline.com/premium/v1/past-weather.ashx?key=d1f163d12c3742b6a0742358210901&q=Ho Chi Minh&format=json&date=2013-10-01&enddate=2013-10-28&includelocation=yes\n",
      "GET http://api.worldweatheronline.com/premium/v1/past-weather.ashx?key=d1f163d12c3742b6a0742358210901&q=Ho Chi Minh&format=json&date=2013-11-01&enddate=2013-11-28&includelocation=yes\n"
     ]
    }
   ],
   "source": [
    "# request lấy dữ liệu 1 năm 12x30 ngày\n",
    "# ngày 1-> 28 mỗi tháng, tại vì em lười handle \n",
    "# các cột: Ngày + giờ, tempC, Windspeed(km/h),winddir16Point,weatherCode,humidity,visibility(km),pressure,cloudcover\n",
    "\n",
    "\n",
    "elements = []\n",
    "for i in range(1,12):\n",
    "    month = i\n",
    "    url = 'http://api.worldweatheronline.com/premium/v1/past-weather.ashx?key=d1f163d12c3742b6a0742358210901&q=Ho Chi Minh&format=json&date=2013-'+str(month)+'-01&enddate=2013-'+str(month)+'-28&includelocation=yes'\n",
    "\n",
    "    print(f'GET {url}')\n",
    "    r = requests.get(url)\n",
    "    json_pydata = json.loads(r.text)\n",
    "    for day in range(0,27):\n",
    "\n",
    "        for j in range(0,7):\n",
    "            element = []\n",
    "            element.append(json_pydata['data']['weather'][day]['date']+' - ' +json_pydata['data']['weather'][day]['hourly'][j]['time'])\n",
    "            element.append(json_pydata['data']['weather'][day]['hourly'][j]['tempC'])\n",
    "            element.append(json_pydata['data']['weather'][day]['hourly'][j]['windspeedKmph'])\n",
    "            element.append(json_pydata['data']['weather'][day]['hourly'][j]['winddir16Point'])\n",
    "            element.append(json_pydata['data']['weather'][day]['hourly'][j]['weatherCode'])\n",
    "            element.append(json_pydata['data']['weather'][day]['hourly'][j]['humidity'])\n",
    "            element.append(json_pydata['data']['weather'][day]['hourly'][j]['visibility'])\n",
    "\n",
    "            element.append(json_pydata['data']['weather'][i]['hourly'][j]['pressure'])\n",
    "            element.append(json_pydata['data']['weather'][i]['hourly'][j]['cloudcover'])\n",
    "            elements.append(element)\n",
    "       "
   ]
  },
  {
   "cell_type": "markdown",
   "metadata": {},
   "source": [
    "Thông tin api: https://www.worldweatheronline.com/developer/api/docs/historical-weather-api.aspx"
   ]
  },
  {
   "cell_type": "code",
   "execution_count": 42,
   "metadata": {},
   "outputs": [],
   "source": [
    "cols =['Day + Time','TempC','Windspeed(km/h)','Windir16Point','WeatherCode','Humidity (%)','Visibility (km)','Pressure (mb)','Cloudcover (%)']\n",
    "data_df = pd.DataFrame(elements, columns=cols)"
   ]
  },
  {
   "cell_type": "code",
   "execution_count": 43,
   "metadata": {
    "scrolled": false
   },
   "outputs": [
    {
     "data": {
      "text/html": [
       "<div>\n",
       "<style scoped>\n",
       "    .dataframe tbody tr th:only-of-type {\n",
       "        vertical-align: middle;\n",
       "    }\n",
       "\n",
       "    .dataframe tbody tr th {\n",
       "        vertical-align: top;\n",
       "    }\n",
       "\n",
       "    .dataframe thead th {\n",
       "        text-align: right;\n",
       "    }\n",
       "</style>\n",
       "<table border=\"1\" class=\"dataframe\">\n",
       "  <thead>\n",
       "    <tr style=\"text-align: right;\">\n",
       "      <th></th>\n",
       "      <th>Day + Time</th>\n",
       "      <th>TempC</th>\n",
       "      <th>Windspeed(km/h)</th>\n",
       "      <th>Windir16Point</th>\n",
       "      <th>WeatherCode</th>\n",
       "      <th>Humidity (%)</th>\n",
       "      <th>Visibility (km)</th>\n",
       "      <th>Pressure (mb)</th>\n",
       "      <th>Cloudcover (%)</th>\n",
       "    </tr>\n",
       "  </thead>\n",
       "  <tbody>\n",
       "    <tr>\n",
       "      <th>0</th>\n",
       "      <td>2013-01-01 - 0</td>\n",
       "      <td>24</td>\n",
       "      <td>3</td>\n",
       "      <td>NNE</td>\n",
       "      <td>113</td>\n",
       "      <td>78</td>\n",
       "      <td>10</td>\n",
       "      <td>1011</td>\n",
       "      <td>20</td>\n",
       "    </tr>\n",
       "    <tr>\n",
       "      <th>1</th>\n",
       "      <td>2013-01-01 - 300</td>\n",
       "      <td>23</td>\n",
       "      <td>4</td>\n",
       "      <td>NNE</td>\n",
       "      <td>113</td>\n",
       "      <td>78</td>\n",
       "      <td>10</td>\n",
       "      <td>1010</td>\n",
       "      <td>22</td>\n",
       "    </tr>\n",
       "    <tr>\n",
       "      <th>2</th>\n",
       "      <td>2013-01-01 - 600</td>\n",
       "      <td>24</td>\n",
       "      <td>6</td>\n",
       "      <td>N</td>\n",
       "      <td>113</td>\n",
       "      <td>78</td>\n",
       "      <td>10</td>\n",
       "      <td>1011</td>\n",
       "      <td>21</td>\n",
       "    </tr>\n",
       "    <tr>\n",
       "      <th>3</th>\n",
       "      <td>2013-01-01 - 900</td>\n",
       "      <td>28</td>\n",
       "      <td>7</td>\n",
       "      <td>N</td>\n",
       "      <td>113</td>\n",
       "      <td>64</td>\n",
       "      <td>10</td>\n",
       "      <td>1012</td>\n",
       "      <td>16</td>\n",
       "    </tr>\n",
       "    <tr>\n",
       "      <th>4</th>\n",
       "      <td>2013-01-01 - 1200</td>\n",
       "      <td>32</td>\n",
       "      <td>3</td>\n",
       "      <td>NNW</td>\n",
       "      <td>113</td>\n",
       "      <td>52</td>\n",
       "      <td>10</td>\n",
       "      <td>1010</td>\n",
       "      <td>14</td>\n",
       "    </tr>\n",
       "    <tr>\n",
       "      <th>...</th>\n",
       "      <td>...</td>\n",
       "      <td>...</td>\n",
       "      <td>...</td>\n",
       "      <td>...</td>\n",
       "      <td>...</td>\n",
       "      <td>...</td>\n",
       "      <td>...</td>\n",
       "      <td>...</td>\n",
       "      <td>...</td>\n",
       "    </tr>\n",
       "    <tr>\n",
       "      <th>2074</th>\n",
       "      <td>2013-11-27 - 600</td>\n",
       "      <td>26</td>\n",
       "      <td>12</td>\n",
       "      <td>ENE</td>\n",
       "      <td>119</td>\n",
       "      <td>89</td>\n",
       "      <td>10</td>\n",
       "      <td>1009</td>\n",
       "      <td>33</td>\n",
       "    </tr>\n",
       "    <tr>\n",
       "      <th>2075</th>\n",
       "      <td>2013-11-27 - 900</td>\n",
       "      <td>30</td>\n",
       "      <td>14</td>\n",
       "      <td>E</td>\n",
       "      <td>113</td>\n",
       "      <td>70</td>\n",
       "      <td>10</td>\n",
       "      <td>1009</td>\n",
       "      <td>20</td>\n",
       "    </tr>\n",
       "    <tr>\n",
       "      <th>2076</th>\n",
       "      <td>2013-11-27 - 1200</td>\n",
       "      <td>32</td>\n",
       "      <td>12</td>\n",
       "      <td>ESE</td>\n",
       "      <td>116</td>\n",
       "      <td>59</td>\n",
       "      <td>10</td>\n",
       "      <td>1007</td>\n",
       "      <td>31</td>\n",
       "    </tr>\n",
       "    <tr>\n",
       "      <th>2077</th>\n",
       "      <td>2013-11-27 - 1500</td>\n",
       "      <td>30</td>\n",
       "      <td>11</td>\n",
       "      <td>ESE</td>\n",
       "      <td>356</td>\n",
       "      <td>72</td>\n",
       "      <td>7</td>\n",
       "      <td>1006</td>\n",
       "      <td>24</td>\n",
       "    </tr>\n",
       "    <tr>\n",
       "      <th>2078</th>\n",
       "      <td>2013-11-27 - 1800</td>\n",
       "      <td>26</td>\n",
       "      <td>6</td>\n",
       "      <td>E</td>\n",
       "      <td>113</td>\n",
       "      <td>89</td>\n",
       "      <td>10</td>\n",
       "      <td>1008</td>\n",
       "      <td>45</td>\n",
       "    </tr>\n",
       "  </tbody>\n",
       "</table>\n",
       "<p>2079 rows × 9 columns</p>\n",
       "</div>"
      ],
      "text/plain": [
       "             Day + Time TempC Windspeed(km/h) Windir16Point WeatherCode  \\\n",
       "0        2013-01-01 - 0    24               3           NNE         113   \n",
       "1      2013-01-01 - 300    23               4           NNE         113   \n",
       "2      2013-01-01 - 600    24               6             N         113   \n",
       "3      2013-01-01 - 900    28               7             N         113   \n",
       "4     2013-01-01 - 1200    32               3           NNW         113   \n",
       "...                 ...   ...             ...           ...         ...   \n",
       "2074   2013-11-27 - 600    26              12           ENE         119   \n",
       "2075   2013-11-27 - 900    30              14             E         113   \n",
       "2076  2013-11-27 - 1200    32              12           ESE         116   \n",
       "2077  2013-11-27 - 1500    30              11           ESE         356   \n",
       "2078  2013-11-27 - 1800    26               6             E         113   \n",
       "\n",
       "     Humidity (%) Visibility (km) Pressure (mb) Cloudcover (%)  \n",
       "0              78              10          1011             20  \n",
       "1              78              10          1010             22  \n",
       "2              78              10          1011             21  \n",
       "3              64              10          1012             16  \n",
       "4              52              10          1010             14  \n",
       "...           ...             ...           ...            ...  \n",
       "2074           89              10          1009             33  \n",
       "2075           70              10          1009             20  \n",
       "2076           59              10          1007             31  \n",
       "2077           72               7          1006             24  \n",
       "2078           89              10          1008             45  \n",
       "\n",
       "[2079 rows x 9 columns]"
      ]
     },
     "execution_count": 43,
     "metadata": {},
     "output_type": "execute_result"
    }
   ],
   "source": [
    "data_df"
   ]
  },
  {
   "cell_type": "markdown",
   "metadata": {},
   "source": [
    "## 2. Khám phá dữ liệu"
   ]
  },
  {
   "cell_type": "markdown",
   "metadata": {},
   "source": [
    "## Ý nghĩa các cột trong bảng\n",
    "- `Day + Time`: Ngày và giờ \n",
    "- `TempC`: Nhiệt độ của ngày hôm đó tính theo độ C.\n",
    "- `Windspeed(km/h)`: Tốc độ gió tính theo đơn vị km/h.\n",
    "- `Windir16Point`: Hướng gió, trên la bàn 16 hướng.\n",
    "- `WeatherCode`: Mã thời tiết, mã này thể hiện tình trạng thơi tiết trong ngày. Mỗi mã ứng với mức độ thời tiết khác nhau nhưng chúng ta chỉ xét trời mưa hay không nên sẽ có các nhóm `WeatherCode` thể hiện trời mưa. Điều này được xử lý ở bước tiếp theo.\n",
    "- `Humidity (%)`: Độ ẩm không khí tính bằng đơn vị %.\n",
    "- `Visibility (km)`: Tầm nhìn xa tính bằng km.\n",
    "- `Pressure (mb)`: Áp suất không khí tính bằng đơn vị mb.\n",
    "- `Cloudcover (%)`: Độ che phủ của mây tính bằng đơn vị %."
   ]
  },
  {
   "cell_type": "markdown",
   "metadata": {},
   "source": [
    "Như đã nói ở phần trên, `WeatherCode` có giá trị là các giá số thể hiện tình trạng thời tiết nhưng link phía dưới. Vì Vậy cần chuyển giá trị ở cột này về các giá trị 0(trời không mưa) và 1(trời mưa). \n",
    "\n",
    "https://gist.github.com/dawnvoh/a1f513123f7b6a42577d"
   ]
  },
  {
   "cell_type": "code",
   "execution_count": 44,
   "metadata": {},
   "outputs": [],
   "source": [
    "# Những mã weather code của khi có mưa\n",
    "rain_code = ['389','386','359','356','353','314','311','308','305','302','299','296','293','176']\n",
    "data_df.loc[~data_df[\"WeatherCode\"].isin(rain_code),\"WeatherCode\"] = \"0\"\n",
    "data_df.loc[data_df[\"WeatherCode\"].isin(rain_code),\"WeatherCode\"] = \"1\"\n",
    "data_df = data_df.rename(columns={\"WeatherCode\": \"Rain Or Not\"})"
   ]
  },
  {
   "cell_type": "code",
   "execution_count": 45,
   "metadata": {},
   "outputs": [
    {
     "data": {
      "text/plain": [
       "Day + Time         object\n",
       "TempC              object\n",
       "Windspeed(km/h)    object\n",
       "Windir16Point      object\n",
       "Rain Or Not        object\n",
       "Humidity (%)       object\n",
       "Visibility (km)    object\n",
       "Pressure (mb)      object\n",
       "Cloudcover (%)     object\n",
       "dtype: object"
      ]
     },
     "execution_count": 45,
     "metadata": {},
     "output_type": "execute_result"
    }
   ],
   "source": [
    "# Các cột của dữ liệu có kiểu dữ liệu gì?\n",
    "data_df.dtypes"
   ]
  },
  {
   "cell_type": "markdown",
   "metadata": {},
   "source": [
    " Nhìn vào kết quả trên ta thấy tất cả các cột đều có kiểu dữ liệu  object. Nhưng theo quan sát thực tế từ dataframe, chỉ có cột `Day + Time` và cột `Windir16Point` là có kiểu dữ liệu không phải dạng số(Thực tế thì Windir16Point có kiểu dữ liệu dạng Categorical). Vì vậy chúng ta cần phải chuyển tất cả các cột có dạng số về đúng kiểu dữ liệu của nó."
   ]
  },
  {
   "cell_type": "code",
   "execution_count": 46,
   "metadata": {},
   "outputs": [
    {
     "data": {
      "text/plain": [
       "0"
      ]
     },
     "execution_count": 46,
     "metadata": {},
     "output_type": "execute_result"
    }
   ],
   "source": [
    "# Dữ liệu có dòng lặp không?\n",
    "data_df.index.duplicated().sum()"
   ]
  },
  {
   "cell_type": "markdown",
   "metadata": {},
   "source": [
    " Ta thấy: Sự có mặt của cột Day + Time có vẻ không đóng góp gì cho kết quả mong đợi mà chỉ gây khó khăn cho việc tính toán nên chúng ta sẽ xóa nó đi"
   ]
  },
  {
   "cell_type": "code",
   "execution_count": 47,
   "metadata": {},
   "outputs": [],
   "source": [
    "save_day = data_df['Day + Time']\n",
    "data_df = data_df.drop('Day + Time', axis=1)"
   ]
  },
  {
   "cell_type": "markdown",
   "metadata": {},
   "source": [
    "Việc tiếp theo là chuyển các cột dữ liệu dạng số về các kiểu dữ liệu số."
   ]
  },
  {
   "cell_type": "code",
   "execution_count": 48,
   "metadata": {},
   "outputs": [
    {
     "data": {
      "text/plain": [
       "TempC               int64\n",
       "Windspeed(km/h)     int64\n",
       "Windir16Point      object\n",
       "Rain Or Not         int64\n",
       "Humidity (%)        int64\n",
       "Visibility (km)     int64\n",
       "Pressure (mb)       int64\n",
       "Cloudcover (%)      int64\n",
       "dtype: object"
      ]
     },
     "execution_count": 48,
     "metadata": {},
     "output_type": "execute_result"
    }
   ],
   "source": [
    "def convert_col_dtype(col):\n",
    "    if col.name not in ['Windir16Point']:\n",
    "        return pd.to_numeric(col, errors='coerce')\n",
    "    return col\n",
    "data_df = data_df.apply(convert_col_dtype)\n",
    "data_df.dtypes"
   ]
  },
  {
   "cell_type": "markdown",
   "metadata": {},
   "source": [
    "### Kế đến, chúng ta sẽ kiểm tra các giá trị median, 25%, 75% của từng cột dữ liệu"
   ]
  },
  {
   "cell_type": "code",
   "execution_count": 49,
   "metadata": {},
   "outputs": [
    {
     "data": {
      "text/html": [
       "<div>\n",
       "<style scoped>\n",
       "    .dataframe tbody tr th:only-of-type {\n",
       "        vertical-align: middle;\n",
       "    }\n",
       "\n",
       "    .dataframe tbody tr th {\n",
       "        vertical-align: top;\n",
       "    }\n",
       "\n",
       "    .dataframe thead th {\n",
       "        text-align: right;\n",
       "    }\n",
       "</style>\n",
       "<table border=\"1\" class=\"dataframe\">\n",
       "  <thead>\n",
       "    <tr style=\"text-align: right;\">\n",
       "      <th></th>\n",
       "      <th>TempC</th>\n",
       "      <th>Windspeed(km/h)</th>\n",
       "      <th>Rain Or Not</th>\n",
       "      <th>Humidity (%)</th>\n",
       "      <th>Visibility (km)</th>\n",
       "      <th>Pressure (mb)</th>\n",
       "      <th>Cloudcover (%)</th>\n",
       "    </tr>\n",
       "  </thead>\n",
       "  <tbody>\n",
       "    <tr>\n",
       "      <th>missing_ratio</th>\n",
       "      <td>0.0</td>\n",
       "      <td>0.0</td>\n",
       "      <td>0.0</td>\n",
       "      <td>0.0</td>\n",
       "      <td>0.0</td>\n",
       "      <td>0.0</td>\n",
       "      <td>0.0</td>\n",
       "    </tr>\n",
       "    <tr>\n",
       "      <th>min</th>\n",
       "      <td>21.0</td>\n",
       "      <td>0.0</td>\n",
       "      <td>0.0</td>\n",
       "      <td>28.0</td>\n",
       "      <td>0.0</td>\n",
       "      <td>1004.0</td>\n",
       "      <td>6.0</td>\n",
       "    </tr>\n",
       "    <tr>\n",
       "      <th>lower_quartile</th>\n",
       "      <td>25.0</td>\n",
       "      <td>6.0</td>\n",
       "      <td>0.0</td>\n",
       "      <td>63.5</td>\n",
       "      <td>10.0</td>\n",
       "      <td>1007.0</td>\n",
       "      <td>19.0</td>\n",
       "    </tr>\n",
       "    <tr>\n",
       "      <th>median</th>\n",
       "      <td>27.0</td>\n",
       "      <td>8.0</td>\n",
       "      <td>0.0</td>\n",
       "      <td>77.0</td>\n",
       "      <td>10.0</td>\n",
       "      <td>1009.0</td>\n",
       "      <td>29.0</td>\n",
       "    </tr>\n",
       "    <tr>\n",
       "      <th>upper_quartile</th>\n",
       "      <td>31.0</td>\n",
       "      <td>11.0</td>\n",
       "      <td>0.0</td>\n",
       "      <td>88.0</td>\n",
       "      <td>10.0</td>\n",
       "      <td>1010.0</td>\n",
       "      <td>45.0</td>\n",
       "    </tr>\n",
       "    <tr>\n",
       "      <th>max</th>\n",
       "      <td>38.0</td>\n",
       "      <td>23.0</td>\n",
       "      <td>1.0</td>\n",
       "      <td>98.0</td>\n",
       "      <td>10.0</td>\n",
       "      <td>1014.0</td>\n",
       "      <td>83.0</td>\n",
       "    </tr>\n",
       "  </tbody>\n",
       "</table>\n",
       "</div>"
      ],
      "text/plain": [
       "                TempC  Windspeed(km/h)  Rain Or Not  Humidity (%)  \\\n",
       "missing_ratio     0.0              0.0          0.0           0.0   \n",
       "min              21.0              0.0          0.0          28.0   \n",
       "lower_quartile   25.0              6.0          0.0          63.5   \n",
       "median           27.0              8.0          0.0          77.0   \n",
       "upper_quartile   31.0             11.0          0.0          88.0   \n",
       "max              38.0             23.0          1.0          98.0   \n",
       "\n",
       "                Visibility (km)  Pressure (mb)  Cloudcover (%)  \n",
       "missing_ratio               0.0            0.0             0.0  \n",
       "min                         0.0         1004.0             6.0  \n",
       "lower_quartile             10.0         1007.0            19.0  \n",
       "median                     10.0         1009.0            29.0  \n",
       "upper_quartile             10.0         1010.0            45.0  \n",
       "max                        10.0         1014.0            83.0  "
      ]
     },
     "execution_count": 49,
     "metadata": {},
     "output_type": "execute_result"
    }
   ],
   "source": [
    "def missing_ratio(s):\n",
    "    return s.isna().mean() * 100\n",
    "def median(df):\n",
    "    return df.quantile(0.5)\n",
    "def lower_quartile(df):\n",
    "    return df.quantile(0.25)\n",
    "def upper_quartile(df):\n",
    "    return df.quantile(0.75)\n",
    "df = data_df.select_dtypes(exclude='object')\n",
    "df.agg([missing_ratio, min, lower_quartile, median, upper_quartile, max])"
   ]
  },
  {
   "cell_type": "code",
   "execution_count": 50,
   "metadata": {},
   "outputs": [
    {
     "data": {
      "text/plain": [
       "0    85.185185\n",
       "1    14.814815\n",
       "Name: Rain Or Not, dtype: float64"
      ]
     },
     "execution_count": 50,
     "metadata": {},
     "output_type": "execute_result"
    }
   ],
   "source": [
    "# Tính tỉ lệ cách giá trị của bộ kết quả Rain Or Not\n",
    "data_df['Rain Or Not'].value_counts(normalize=True) * 100"
   ]
  },
  {
   "cell_type": "markdown",
   "metadata": {},
   "source": [
    "### Nhận xét về dữ liệu\n",
    "- Với số lượng dữ liệu như trên, có thể nói đó là con số khá lớn. Như vậy chúng ta có thể đưa ra kết luận có thể tin cậy được.\n",
    "- Giá trị missing ratio bằng 0 ở tất cả các cột. Điều này là một tín hiệu đáng mừng, báo hiệu việc tiền xử lý dữ liệu của chúng ta sẽ dễ dàng hơn rất nhiều so với việc thiếu nhiều loại dữ liệu ở các cột.\n",
    "- Dữ liệu của cột `Windir16Point` tuy có không phải dạng số nhưng nó chỉ nhận 16 giá trị(categorical). Vì vậy, chúng ta có thể dùng cách khác để mã hóa chúng thành dạng số. "
   ]
  },
  {
   "cell_type": "code",
   "execution_count": 51,
   "metadata": {
    "scrolled": true
   },
   "outputs": [
    {
     "data": {
      "text/html": [
       "<div>\n",
       "<style scoped>\n",
       "    .dataframe tbody tr th:only-of-type {\n",
       "        vertical-align: middle;\n",
       "    }\n",
       "\n",
       "    .dataframe tbody tr th {\n",
       "        vertical-align: top;\n",
       "    }\n",
       "\n",
       "    .dataframe thead th {\n",
       "        text-align: right;\n",
       "    }\n",
       "</style>\n",
       "<table border=\"1\" class=\"dataframe\">\n",
       "  <thead>\n",
       "    <tr style=\"text-align: right;\">\n",
       "      <th></th>\n",
       "      <th>TempC</th>\n",
       "      <th>Windspeed(km/h)</th>\n",
       "      <th>Rain Or Not</th>\n",
       "      <th>Humidity (%)</th>\n",
       "      <th>Visibility (km)</th>\n",
       "      <th>Pressure (mb)</th>\n",
       "      <th>Cloudcover (%)</th>\n",
       "    </tr>\n",
       "  </thead>\n",
       "  <tbody>\n",
       "    <tr>\n",
       "      <th>missing_ratio</th>\n",
       "      <td>0.0</td>\n",
       "      <td>0.00</td>\n",
       "      <td>0.0</td>\n",
       "      <td>0.00</td>\n",
       "      <td>0.0</td>\n",
       "      <td>0.0</td>\n",
       "      <td>0.0</td>\n",
       "    </tr>\n",
       "    <tr>\n",
       "      <th>min</th>\n",
       "      <td>23.0</td>\n",
       "      <td>1.00</td>\n",
       "      <td>1.0</td>\n",
       "      <td>44.00</td>\n",
       "      <td>3.0</td>\n",
       "      <td>1004.0</td>\n",
       "      <td>9.0</td>\n",
       "    </tr>\n",
       "    <tr>\n",
       "      <th>lower_quartile</th>\n",
       "      <td>27.0</td>\n",
       "      <td>7.75</td>\n",
       "      <td>1.0</td>\n",
       "      <td>65.00</td>\n",
       "      <td>7.0</td>\n",
       "      <td>1005.0</td>\n",
       "      <td>23.0</td>\n",
       "    </tr>\n",
       "    <tr>\n",
       "      <th>median</th>\n",
       "      <td>30.0</td>\n",
       "      <td>10.00</td>\n",
       "      <td>1.0</td>\n",
       "      <td>73.00</td>\n",
       "      <td>9.0</td>\n",
       "      <td>1007.0</td>\n",
       "      <td>29.0</td>\n",
       "    </tr>\n",
       "    <tr>\n",
       "      <th>upper_quartile</th>\n",
       "      <td>31.0</td>\n",
       "      <td>13.00</td>\n",
       "      <td>1.0</td>\n",
       "      <td>82.25</td>\n",
       "      <td>10.0</td>\n",
       "      <td>1009.0</td>\n",
       "      <td>45.0</td>\n",
       "    </tr>\n",
       "    <tr>\n",
       "      <th>max</th>\n",
       "      <td>36.0</td>\n",
       "      <td>23.00</td>\n",
       "      <td>1.0</td>\n",
       "      <td>98.00</td>\n",
       "      <td>10.0</td>\n",
       "      <td>1012.0</td>\n",
       "      <td>83.0</td>\n",
       "    </tr>\n",
       "  </tbody>\n",
       "</table>\n",
       "</div>"
      ],
      "text/plain": [
       "                TempC  Windspeed(km/h)  Rain Or Not  Humidity (%)  \\\n",
       "missing_ratio     0.0             0.00          0.0          0.00   \n",
       "min              23.0             1.00          1.0         44.00   \n",
       "lower_quartile   27.0             7.75          1.0         65.00   \n",
       "median           30.0            10.00          1.0         73.00   \n",
       "upper_quartile   31.0            13.00          1.0         82.25   \n",
       "max              36.0            23.00          1.0         98.00   \n",
       "\n",
       "                Visibility (km)  Pressure (mb)  Cloudcover (%)  \n",
       "missing_ratio               0.0            0.0             0.0  \n",
       "min                         3.0         1004.0             9.0  \n",
       "lower_quartile              7.0         1005.0            23.0  \n",
       "median                      9.0         1007.0            29.0  \n",
       "upper_quartile             10.0         1009.0            45.0  \n",
       "max                        10.0         1012.0            83.0  "
      ]
     },
     "execution_count": 51,
     "metadata": {},
     "output_type": "execute_result"
    }
   ],
   "source": [
    "# Kiểm tra các thông tin của data khi mà trời mưa\n",
    "df = data_df[data_df[\"Rain Or Not\"] != 0].select_dtypes(exclude='object')\n",
    "df.agg([missing_ratio, min, lower_quartile, median, upper_quartile, max])"
   ]
  },
  {
   "cell_type": "markdown",
   "metadata": {},
   "source": [
    "## 3. Tiền xử lý dữ liệu"
   ]
  },
  {
   "cell_type": "markdown",
   "metadata": {},
   "source": [
    "Vì bộ dữ liệu này khá tốt nên việc tiền xử lý dữ liệu rất nhẹ nhàng, không cần phải làm gì nhiều vì nó đã quá đầy đủ"
   ]
  },
  {
   "cell_type": "markdown",
   "metadata": {},
   "source": [
    " Việc đầu tiên cần làm là tách tập input và output ra. Trong bộ dữ liệu này, output chính là cột `Rain Or Not`, input là cột còn lại. Sau đó, chúng ta phải tách ra hai tập riêng lẻ đó là tập train và tập validation. "
   ]
  },
  {
   "cell_type": "code",
   "execution_count": 52,
   "metadata": {},
   "outputs": [],
   "source": [
    "#Split dữ liệu\n",
    "y_sr = data_df[\"Rain Or Not\"] \n",
    "X_df = data_df.drop(\"Rain Or Not\", axis=1)\n",
    "clone_X= X_df"
   ]
  },
  {
   "cell_type": "code",
   "execution_count": 14,
   "metadata": {},
   "outputs": [],
   "source": [
    "# Tách tập huấn luyện và tập validation theo tỉ lệ 70%:30%\n",
    "# train_X_df, val_X_df, train_y_sr, val_y_sr = train_test_split(X_df, y_sr, test_size=0.3, \n",
    "#                                                               stratify=y_sr, random_state=0)\n",
    "train_X_df, X_test, train_y_sr, y_test = train_test_split(X_df, y_sr, test_size=0.2, random_state=1)\n",
    "\n",
    "train_X_df, val_X_df, train_y_sr, val_y_sr = train_test_split(train_X_df, train_y_sr, test_size=0.25, random_state=1)"
   ]
  },
  {
   "cell_type": "markdown",
   "metadata": {},
   "source": [
    "Tiếp theo là việc xử lý cột có dạng Categorical. Ta sẽ sử dụng OneHotEncoder để mã hóa cột \"Windir16Point\" để phục vụ bước mô hình hóa. Sau khi Onehot trên cột Windir16Point thì chúng ta sử dụng StandardScaler với các cột có dạng số còn lại. Tất cả được nối lại thành một Transformer có tên là preprocess_Transformer. Việc làm này giúp chúng ta dễ dàng tạo mô hình và tránh sai sót xảy ra."
   ]
  },
  {
   "cell_type": "code",
   "execution_count": 15,
   "metadata": {},
   "outputs": [
    {
     "data": {
      "text/html": [
       "<style>div.sk-top-container {color: black;background-color: white;}div.sk-toggleable {background-color: white;}label.sk-toggleable__label {cursor: pointer;display: block;width: 100%;margin-bottom: 0;padding: 0.2em 0.3em;box-sizing: border-box;text-align: center;}div.sk-toggleable__content {max-height: 0;max-width: 0;overflow: hidden;text-align: left;background-color: #f0f8ff;}div.sk-toggleable__content pre {margin: 0.2em;color: black;border-radius: 0.25em;background-color: #f0f8ff;}input.sk-toggleable__control:checked~div.sk-toggleable__content {max-height: 200px;max-width: 100%;overflow: auto;}div.sk-estimator input.sk-toggleable__control:checked~label.sk-toggleable__label {background-color: #d4ebff;}div.sk-label input.sk-toggleable__control:checked~label.sk-toggleable__label {background-color: #d4ebff;}input.sk-hidden--visually {border: 0;clip: rect(1px 1px 1px 1px);clip: rect(1px, 1px, 1px, 1px);height: 1px;margin: -1px;overflow: hidden;padding: 0;position: absolute;width: 1px;}div.sk-estimator {font-family: monospace;background-color: #f0f8ff;margin: 0.25em 0.25em;border: 1px dotted black;border-radius: 0.25em;box-sizing: border-box;}div.sk-estimator:hover {background-color: #d4ebff;}div.sk-parallel-item::after {content: \"\";width: 100%;border-bottom: 1px solid gray;flex-grow: 1;}div.sk-label:hover label.sk-toggleable__label {background-color: #d4ebff;}div.sk-serial::before {content: \"\";position: absolute;border-left: 1px solid gray;box-sizing: border-box;top: 2em;bottom: 0;left: 50%;}div.sk-serial {display: flex;flex-direction: column;align-items: center;background-color: white;}div.sk-item {z-index: 1;}div.sk-parallel {display: flex;align-items: stretch;justify-content: center;background-color: white;}div.sk-parallel-item {display: flex;flex-direction: column;position: relative;background-color: white;}div.sk-parallel-item:first-child::after {align-self: flex-end;width: 50%;}div.sk-parallel-item:last-child::after {align-self: flex-start;width: 50%;}div.sk-parallel-item:only-child::after {width: 0;}div.sk-dashed-wrapped {border: 1px dashed gray;margin: 0.2em;box-sizing: border-box;padding-bottom: 0.1em;background-color: white;position: relative;}div.sk-label label {font-family: monospace;font-weight: bold;background-color: white;display: inline-block;line-height: 1.2em;}div.sk-label-container {position: relative;z-index: 2;text-align: center;}div.sk-container {display: inline-block;position: relative;}</style><div class=\"sk-top-container\"><div class=\"sk-container\"><div class=\"sk-item sk-dashed-wrapped\"><div class=\"sk-label-container\"><div class=\"sk-label sk-toggleable\"><input class=\"sk-toggleable__control sk-hidden--visually\" id=\"c9ba99cc-a97a-40a2-975e-63f35e4930cb\" type=\"checkbox\" ><label class=\"sk-toggleable__label\" for=\"c9ba99cc-a97a-40a2-975e-63f35e4930cb\">ColumnTransformer</label><div class=\"sk-toggleable__content\"><pre>ColumnTransformer(transformers=[('cat', OneHotEncoder(handle_unknown='ignore'),\n",
       "                                 ['Windir16Point']),\n",
       "                                ('scaler', StandardScaler(),\n",
       "                                 ['TempC', 'Windspeed(km/h)', 'Humidity (%)',\n",
       "                                  'Visibility (km)', 'Pressure (mb)',\n",
       "                                  'Cloudcover (%)'])])</pre></div></div></div><div class=\"sk-parallel\"><div class=\"sk-parallel-item\"><div class=\"sk-item\"><div class=\"sk-label-container\"><div class=\"sk-label sk-toggleable\"><input class=\"sk-toggleable__control sk-hidden--visually\" id=\"d7e4bb69-972e-491d-a638-f7f2c1f6e0f0\" type=\"checkbox\" ><label class=\"sk-toggleable__label\" for=\"d7e4bb69-972e-491d-a638-f7f2c1f6e0f0\">cat</label><div class=\"sk-toggleable__content\"><pre>['Windir16Point']</pre></div></div></div><div class=\"sk-serial\"><div class=\"sk-item\"><div class=\"sk-estimator sk-toggleable\"><input class=\"sk-toggleable__control sk-hidden--visually\" id=\"6179c225-e8ba-40ec-a0ae-e3bb2c83a774\" type=\"checkbox\" ><label class=\"sk-toggleable__label\" for=\"6179c225-e8ba-40ec-a0ae-e3bb2c83a774\">OneHotEncoder</label><div class=\"sk-toggleable__content\"><pre>OneHotEncoder(handle_unknown='ignore')</pre></div></div></div></div></div></div><div class=\"sk-parallel-item\"><div class=\"sk-item\"><div class=\"sk-label-container\"><div class=\"sk-label sk-toggleable\"><input class=\"sk-toggleable__control sk-hidden--visually\" id=\"dbfd5423-d89f-4276-bf65-5a9bacdd30a1\" type=\"checkbox\" ><label class=\"sk-toggleable__label\" for=\"dbfd5423-d89f-4276-bf65-5a9bacdd30a1\">scaler</label><div class=\"sk-toggleable__content\"><pre>['TempC', 'Windspeed(km/h)', 'Humidity (%)', 'Visibility (km)', 'Pressure (mb)', 'Cloudcover (%)']</pre></div></div></div><div class=\"sk-serial\"><div class=\"sk-item\"><div class=\"sk-estimator sk-toggleable\"><input class=\"sk-toggleable__control sk-hidden--visually\" id=\"9dc4e7d4-b304-4f70-9032-57573cba6560\" type=\"checkbox\" ><label class=\"sk-toggleable__label\" for=\"9dc4e7d4-b304-4f70-9032-57573cba6560\">StandardScaler</label><div class=\"sk-toggleable__content\"><pre>StandardScaler()</pre></div></div></div></div></div></div></div></div></div></div>"
      ],
      "text/plain": [
       "ColumnTransformer(transformers=[('cat', OneHotEncoder(handle_unknown='ignore'),\n",
       "                                 ['Windir16Point']),\n",
       "                                ('scaler', StandardScaler(),\n",
       "                                 ['TempC', 'Windspeed(km/h)', 'Humidity (%)',\n",
       "                                  'Visibility (km)', 'Pressure (mb)',\n",
       "                                  'Cloudcover (%)'])])"
      ]
     },
     "execution_count": 15,
     "metadata": {},
     "output_type": "execute_result"
    }
   ],
   "source": [
    "preprocess_Transformer = ColumnTransformer(\n",
    "    transformers=[\n",
    "        ('cat',  OneHotEncoder(handle_unknown='ignore'), ['Windir16Point']),\n",
    "        ('scaler', StandardScaler(), ['TempC','Windspeed(km/h)','Humidity (%)','Visibility (km)','Pressure (mb)','Cloudcover (%)'])\n",
    "    ])\n",
    "preprocess_Transformer"
   ]
  },
  {
   "cell_type": "code",
   "execution_count": 16,
   "metadata": {},
   "outputs": [
    {
     "data": {
      "text/plain": [
       "array([[ 0.        ,  0.        ,  0.        , ..., -0.18530525,\n",
       "        -1.19271665, -0.4731714 ],\n",
       "       [ 0.        ,  0.        ,  0.        , ..., -0.18530525,\n",
       "        -0.29349194, -0.15086   ],\n",
       "       [ 0.        ,  0.        ,  0.        , ..., -0.18530525,\n",
       "        -0.29349194, -0.95663849],\n",
       "       ...,\n",
       "       [ 0.        ,  0.        ,  0.        , ...,  0.34347198,\n",
       "         0.15612041,  0.70863706],\n",
       "       [ 0.        ,  0.        ,  0.        , ...,  0.34347198,\n",
       "         0.60573276, -1.38638702],\n",
       "       [ 0.        ,  0.        ,  0.        , ...,  0.34347198,\n",
       "        -2.09194135, -0.41945283]])"
      ]
     },
     "execution_count": 16,
     "metadata": {},
     "output_type": "execute_result"
    }
   ],
   "source": [
    "# dùng phương thức fit_transform \n",
    "preprocess_train_X = preprocess_Transformer.fit_transform(train_X_df)\n",
    "preprocess_train_X"
   ]
  },
  {
   "cell_type": "markdown",
   "metadata": {},
   "source": [
    "## 4. Mô hình hóa dữ liệu\n",
    "- Trong bước mô hình hóa dữ liệu này, nhóm mình sẽ sử dụng mô hình Neuron Network để phân lớp. Với bộ tham số của MPLClassifier là (`hidden_layer_sizes=(20), activation='tanh', solver='lbfgs', random_state=0, max_iter=2500`).\n",
    "- Trước hết, cần phải tạo một pipeline đầy đủ các bước tiền xử lý(đã thực hiện ở trên) và bước phân lớp\n",
    "- Sau đó, thực hiện thử với siêu tham số alpha để xem xét với alpha nào thì mô hình cho ra kết quả tốt nhất."
   ]
  },
  {
   "cell_type": "code",
   "execution_count": 17,
   "metadata": {},
   "outputs": [],
   "source": [
    "mlpc = MLPClassifier(hidden_layer_sizes=(20), activation='tanh', solver='lbfgs', random_state=0, max_iter=2500)\n",
    "full_pipeline = make_pipeline(preprocess_Transformer, mlpc)\n"
   ]
  },
  {
   "cell_type": "code",
   "execution_count": 18,
   "metadata": {},
   "outputs": [
    {
     "data": {
      "text/html": [
       "<style>div.sk-top-container {color: black;background-color: white;}div.sk-toggleable {background-color: white;}label.sk-toggleable__label {cursor: pointer;display: block;width: 100%;margin-bottom: 0;padding: 0.2em 0.3em;box-sizing: border-box;text-align: center;}div.sk-toggleable__content {max-height: 0;max-width: 0;overflow: hidden;text-align: left;background-color: #f0f8ff;}div.sk-toggleable__content pre {margin: 0.2em;color: black;border-radius: 0.25em;background-color: #f0f8ff;}input.sk-toggleable__control:checked~div.sk-toggleable__content {max-height: 200px;max-width: 100%;overflow: auto;}div.sk-estimator input.sk-toggleable__control:checked~label.sk-toggleable__label {background-color: #d4ebff;}div.sk-label input.sk-toggleable__control:checked~label.sk-toggleable__label {background-color: #d4ebff;}input.sk-hidden--visually {border: 0;clip: rect(1px 1px 1px 1px);clip: rect(1px, 1px, 1px, 1px);height: 1px;margin: -1px;overflow: hidden;padding: 0;position: absolute;width: 1px;}div.sk-estimator {font-family: monospace;background-color: #f0f8ff;margin: 0.25em 0.25em;border: 1px dotted black;border-radius: 0.25em;box-sizing: border-box;}div.sk-estimator:hover {background-color: #d4ebff;}div.sk-parallel-item::after {content: \"\";width: 100%;border-bottom: 1px solid gray;flex-grow: 1;}div.sk-label:hover label.sk-toggleable__label {background-color: #d4ebff;}div.sk-serial::before {content: \"\";position: absolute;border-left: 1px solid gray;box-sizing: border-box;top: 2em;bottom: 0;left: 50%;}div.sk-serial {display: flex;flex-direction: column;align-items: center;background-color: white;}div.sk-item {z-index: 1;}div.sk-parallel {display: flex;align-items: stretch;justify-content: center;background-color: white;}div.sk-parallel-item {display: flex;flex-direction: column;position: relative;background-color: white;}div.sk-parallel-item:first-child::after {align-self: flex-end;width: 50%;}div.sk-parallel-item:last-child::after {align-self: flex-start;width: 50%;}div.sk-parallel-item:only-child::after {width: 0;}div.sk-dashed-wrapped {border: 1px dashed gray;margin: 0.2em;box-sizing: border-box;padding-bottom: 0.1em;background-color: white;position: relative;}div.sk-label label {font-family: monospace;font-weight: bold;background-color: white;display: inline-block;line-height: 1.2em;}div.sk-label-container {position: relative;z-index: 2;text-align: center;}div.sk-container {display: inline-block;position: relative;}</style><div class=\"sk-top-container\"><div class=\"sk-container\"><div class=\"sk-item sk-dashed-wrapped\"><div class=\"sk-label-container\"><div class=\"sk-label sk-toggleable\"><input class=\"sk-toggleable__control sk-hidden--visually\" id=\"5a2ded5e-2546-40cb-8c38-be0213d7bab2\" type=\"checkbox\" ><label class=\"sk-toggleable__label\" for=\"5a2ded5e-2546-40cb-8c38-be0213d7bab2\">Pipeline</label><div class=\"sk-toggleable__content\"><pre>Pipeline(steps=[('columntransformer',\n",
       "                 ColumnTransformer(transformers=[('cat',\n",
       "                                                  OneHotEncoder(handle_unknown='ignore'),\n",
       "                                                  ['Windir16Point']),\n",
       "                                                 ('scaler', StandardScaler(),\n",
       "                                                  ['TempC', 'Windspeed(km/h)',\n",
       "                                                   'Humidity (%)',\n",
       "                                                   'Visibility (km)',\n",
       "                                                   'Pressure (mb)',\n",
       "                                                   'Cloudcover (%)'])])),\n",
       "                ('mlpclassifier',\n",
       "                 MLPClassifier(activation='tanh', hidden_layer_sizes=20,\n",
       "                               max_iter=2500, random_state=0,\n",
       "                               solver='lbfgs'))])</pre></div></div></div><div class=\"sk-serial\"><div class=\"sk-item sk-dashed-wrapped\"><div class=\"sk-label-container\"><div class=\"sk-label sk-toggleable\"><input class=\"sk-toggleable__control sk-hidden--visually\" id=\"d4e79b41-d14e-49d2-9222-888a28094709\" type=\"checkbox\" ><label class=\"sk-toggleable__label\" for=\"d4e79b41-d14e-49d2-9222-888a28094709\">columntransformer: ColumnTransformer</label><div class=\"sk-toggleable__content\"><pre>ColumnTransformer(transformers=[('cat', OneHotEncoder(handle_unknown='ignore'),\n",
       "                                 ['Windir16Point']),\n",
       "                                ('scaler', StandardScaler(),\n",
       "                                 ['TempC', 'Windspeed(km/h)', 'Humidity (%)',\n",
       "                                  'Visibility (km)', 'Pressure (mb)',\n",
       "                                  'Cloudcover (%)'])])</pre></div></div></div><div class=\"sk-parallel\"><div class=\"sk-parallel-item\"><div class=\"sk-item\"><div class=\"sk-label-container\"><div class=\"sk-label sk-toggleable\"><input class=\"sk-toggleable__control sk-hidden--visually\" id=\"b5a1d07b-44ac-41d8-81c5-62f0b1a62059\" type=\"checkbox\" ><label class=\"sk-toggleable__label\" for=\"b5a1d07b-44ac-41d8-81c5-62f0b1a62059\">cat</label><div class=\"sk-toggleable__content\"><pre>['Windir16Point']</pre></div></div></div><div class=\"sk-serial\"><div class=\"sk-item\"><div class=\"sk-estimator sk-toggleable\"><input class=\"sk-toggleable__control sk-hidden--visually\" id=\"08dc5d74-1377-4240-80d9-1884fc8ad2d6\" type=\"checkbox\" ><label class=\"sk-toggleable__label\" for=\"08dc5d74-1377-4240-80d9-1884fc8ad2d6\">OneHotEncoder</label><div class=\"sk-toggleable__content\"><pre>OneHotEncoder(handle_unknown='ignore')</pre></div></div></div></div></div></div><div class=\"sk-parallel-item\"><div class=\"sk-item\"><div class=\"sk-label-container\"><div class=\"sk-label sk-toggleable\"><input class=\"sk-toggleable__control sk-hidden--visually\" id=\"91a8f5bf-dc2a-4a66-b49e-7fa12a93ce99\" type=\"checkbox\" ><label class=\"sk-toggleable__label\" for=\"91a8f5bf-dc2a-4a66-b49e-7fa12a93ce99\">scaler</label><div class=\"sk-toggleable__content\"><pre>['TempC', 'Windspeed(km/h)', 'Humidity (%)', 'Visibility (km)', 'Pressure (mb)', 'Cloudcover (%)']</pre></div></div></div><div class=\"sk-serial\"><div class=\"sk-item\"><div class=\"sk-estimator sk-toggleable\"><input class=\"sk-toggleable__control sk-hidden--visually\" id=\"b008d33e-989b-4bd5-a3ff-e82f7a30a13c\" type=\"checkbox\" ><label class=\"sk-toggleable__label\" for=\"b008d33e-989b-4bd5-a3ff-e82f7a30a13c\">StandardScaler</label><div class=\"sk-toggleable__content\"><pre>StandardScaler()</pre></div></div></div></div></div></div></div></div><div class=\"sk-item\"><div class=\"sk-estimator sk-toggleable\"><input class=\"sk-toggleable__control sk-hidden--visually\" id=\"8857e47c-2a32-440a-a7ed-1041eb1871dd\" type=\"checkbox\" ><label class=\"sk-toggleable__label\" for=\"8857e47c-2a32-440a-a7ed-1041eb1871dd\">MLPClassifier</label><div class=\"sk-toggleable__content\"><pre>MLPClassifier(activation='tanh', hidden_layer_sizes=20, max_iter=2500,\n",
       "              random_state=0, solver='lbfgs')</pre></div></div></div></div></div></div></div>"
      ],
      "text/plain": [
       "Pipeline(steps=[('columntransformer',\n",
       "                 ColumnTransformer(transformers=[('cat',\n",
       "                                                  OneHotEncoder(handle_unknown='ignore'),\n",
       "                                                  ['Windir16Point']),\n",
       "                                                 ('scaler', StandardScaler(),\n",
       "                                                  ['TempC', 'Windspeed(km/h)',\n",
       "                                                   'Humidity (%)',\n",
       "                                                   'Visibility (km)',\n",
       "                                                   'Pressure (mb)',\n",
       "                                                   'Cloudcover (%)'])])),\n",
       "                ('mlpclassifier',\n",
       "                 MLPClassifier(activation='tanh', hidden_layer_sizes=20,\n",
       "                               max_iter=2500, random_state=0,\n",
       "                               solver='lbfgs'))])"
      ]
     },
     "execution_count": 18,
     "metadata": {},
     "output_type": "execute_result"
    }
   ],
   "source": [
    "full_pipeline.fit(train_X_df, train_y_sr)"
   ]
  },
  {
   "cell_type": "code",
   "execution_count": 19,
   "metadata": {},
   "outputs": [],
   "source": [
    "alphas = [0.001, 0.01, 0.1,  1, 10,  100, 500, 1000]\n",
    "train_errs = []\n",
    "val_errs = []\n",
    "\n",
    "for alpha in alphas:\n",
    "    full_pipeline.set_params(mlpclassifier__alpha=alpha)\n",
    "    full_pipeline.fit(train_X_df, train_y_sr)\n",
    "    train_err = 100*(1 - full_pipeline.score(train_X_df, train_y_sr))\n",
    "    train_errs.append(train_err)\n",
    "    \n",
    "    val_err = (1 - full_pipeline.score(val_X_df, val_y_sr))*100\n",
    "    val_errs.append(val_err)\n"
   ]
  },
  {
   "cell_type": "code",
   "execution_count": 20,
   "metadata": {},
   "outputs": [],
   "source": [
    "# Tìm ra độ lỗi trên tập validation nhỏ nhất đồng thời tìm alpha tương ứng với độ lỗi đó\n",
    "best_val_err = min(val_errs)\n",
    "best_alpha = None\n",
    "for i in range(0, len(val_errs)):\n",
    "    if val_errs[i] == best_val_err:\n",
    "        best_alpha = alphas[i]"
   ]
  },
  {
   "cell_type": "code",
   "execution_count": 21,
   "metadata": {},
   "outputs": [
    {
     "data": {
      "text/html": [
       "<style>div.sk-top-container {color: black;background-color: white;}div.sk-toggleable {background-color: white;}label.sk-toggleable__label {cursor: pointer;display: block;width: 100%;margin-bottom: 0;padding: 0.2em 0.3em;box-sizing: border-box;text-align: center;}div.sk-toggleable__content {max-height: 0;max-width: 0;overflow: hidden;text-align: left;background-color: #f0f8ff;}div.sk-toggleable__content pre {margin: 0.2em;color: black;border-radius: 0.25em;background-color: #f0f8ff;}input.sk-toggleable__control:checked~div.sk-toggleable__content {max-height: 200px;max-width: 100%;overflow: auto;}div.sk-estimator input.sk-toggleable__control:checked~label.sk-toggleable__label {background-color: #d4ebff;}div.sk-label input.sk-toggleable__control:checked~label.sk-toggleable__label {background-color: #d4ebff;}input.sk-hidden--visually {border: 0;clip: rect(1px 1px 1px 1px);clip: rect(1px, 1px, 1px, 1px);height: 1px;margin: -1px;overflow: hidden;padding: 0;position: absolute;width: 1px;}div.sk-estimator {font-family: monospace;background-color: #f0f8ff;margin: 0.25em 0.25em;border: 1px dotted black;border-radius: 0.25em;box-sizing: border-box;}div.sk-estimator:hover {background-color: #d4ebff;}div.sk-parallel-item::after {content: \"\";width: 100%;border-bottom: 1px solid gray;flex-grow: 1;}div.sk-label:hover label.sk-toggleable__label {background-color: #d4ebff;}div.sk-serial::before {content: \"\";position: absolute;border-left: 1px solid gray;box-sizing: border-box;top: 2em;bottom: 0;left: 50%;}div.sk-serial {display: flex;flex-direction: column;align-items: center;background-color: white;}div.sk-item {z-index: 1;}div.sk-parallel {display: flex;align-items: stretch;justify-content: center;background-color: white;}div.sk-parallel-item {display: flex;flex-direction: column;position: relative;background-color: white;}div.sk-parallel-item:first-child::after {align-self: flex-end;width: 50%;}div.sk-parallel-item:last-child::after {align-self: flex-start;width: 50%;}div.sk-parallel-item:only-child::after {width: 0;}div.sk-dashed-wrapped {border: 1px dashed gray;margin: 0.2em;box-sizing: border-box;padding-bottom: 0.1em;background-color: white;position: relative;}div.sk-label label {font-family: monospace;font-weight: bold;background-color: white;display: inline-block;line-height: 1.2em;}div.sk-label-container {position: relative;z-index: 2;text-align: center;}div.sk-container {display: inline-block;position: relative;}</style><div class=\"sk-top-container\"><div class=\"sk-container\"><div class=\"sk-item sk-dashed-wrapped\"><div class=\"sk-label-container\"><div class=\"sk-label sk-toggleable\"><input class=\"sk-toggleable__control sk-hidden--visually\" id=\"e9f58a3a-4974-4006-94af-33ef3da9182f\" type=\"checkbox\" ><label class=\"sk-toggleable__label\" for=\"e9f58a3a-4974-4006-94af-33ef3da9182f\">Pipeline</label><div class=\"sk-toggleable__content\"><pre>Pipeline(steps=[('columntransformer',\n",
       "                 ColumnTransformer(transformers=[('cat',\n",
       "                                                  OneHotEncoder(handle_unknown='ignore'),\n",
       "                                                  ['Windir16Point']),\n",
       "                                                 ('scaler', StandardScaler(),\n",
       "                                                  ['TempC', 'Windspeed(km/h)',\n",
       "                                                   'Humidity (%)',\n",
       "                                                   'Visibility (km)',\n",
       "                                                   'Pressure (mb)',\n",
       "                                                   'Cloudcover (%)'])])),\n",
       "                ('mlpclassifier',\n",
       "                 MLPClassifier(activation='tanh', alpha=1,\n",
       "                               hidden_layer_sizes=20, max_iter=2500,\n",
       "                               random_state=0, solver='lbfgs'))])</pre></div></div></div><div class=\"sk-serial\"><div class=\"sk-item sk-dashed-wrapped\"><div class=\"sk-label-container\"><div class=\"sk-label sk-toggleable\"><input class=\"sk-toggleable__control sk-hidden--visually\" id=\"08c22e29-3a85-430b-a158-8f020cb4ef30\" type=\"checkbox\" ><label class=\"sk-toggleable__label\" for=\"08c22e29-3a85-430b-a158-8f020cb4ef30\">columntransformer: ColumnTransformer</label><div class=\"sk-toggleable__content\"><pre>ColumnTransformer(transformers=[('cat', OneHotEncoder(handle_unknown='ignore'),\n",
       "                                 ['Windir16Point']),\n",
       "                                ('scaler', StandardScaler(),\n",
       "                                 ['TempC', 'Windspeed(km/h)', 'Humidity (%)',\n",
       "                                  'Visibility (km)', 'Pressure (mb)',\n",
       "                                  'Cloudcover (%)'])])</pre></div></div></div><div class=\"sk-parallel\"><div class=\"sk-parallel-item\"><div class=\"sk-item\"><div class=\"sk-label-container\"><div class=\"sk-label sk-toggleable\"><input class=\"sk-toggleable__control sk-hidden--visually\" id=\"24776b18-92c6-473b-a526-61008ff24cac\" type=\"checkbox\" ><label class=\"sk-toggleable__label\" for=\"24776b18-92c6-473b-a526-61008ff24cac\">cat</label><div class=\"sk-toggleable__content\"><pre>['Windir16Point']</pre></div></div></div><div class=\"sk-serial\"><div class=\"sk-item\"><div class=\"sk-estimator sk-toggleable\"><input class=\"sk-toggleable__control sk-hidden--visually\" id=\"2f0a07e0-8581-4c70-a3ce-e2a8eb09b68b\" type=\"checkbox\" ><label class=\"sk-toggleable__label\" for=\"2f0a07e0-8581-4c70-a3ce-e2a8eb09b68b\">OneHotEncoder</label><div class=\"sk-toggleable__content\"><pre>OneHotEncoder(handle_unknown='ignore')</pre></div></div></div></div></div></div><div class=\"sk-parallel-item\"><div class=\"sk-item\"><div class=\"sk-label-container\"><div class=\"sk-label sk-toggleable\"><input class=\"sk-toggleable__control sk-hidden--visually\" id=\"1edc75f7-2af9-41a6-bb99-66e64c54bec8\" type=\"checkbox\" ><label class=\"sk-toggleable__label\" for=\"1edc75f7-2af9-41a6-bb99-66e64c54bec8\">scaler</label><div class=\"sk-toggleable__content\"><pre>['TempC', 'Windspeed(km/h)', 'Humidity (%)', 'Visibility (km)', 'Pressure (mb)', 'Cloudcover (%)']</pre></div></div></div><div class=\"sk-serial\"><div class=\"sk-item\"><div class=\"sk-estimator sk-toggleable\"><input class=\"sk-toggleable__control sk-hidden--visually\" id=\"8e386e20-6504-4a60-a22c-6da2d6d9d251\" type=\"checkbox\" ><label class=\"sk-toggleable__label\" for=\"8e386e20-6504-4a60-a22c-6da2d6d9d251\">StandardScaler</label><div class=\"sk-toggleable__content\"><pre>StandardScaler()</pre></div></div></div></div></div></div></div></div><div class=\"sk-item\"><div class=\"sk-estimator sk-toggleable\"><input class=\"sk-toggleable__control sk-hidden--visually\" id=\"84f475d4-8b92-4bf6-8182-0af88014166d\" type=\"checkbox\" ><label class=\"sk-toggleable__label\" for=\"84f475d4-8b92-4bf6-8182-0af88014166d\">MLPClassifier</label><div class=\"sk-toggleable__content\"><pre>MLPClassifier(activation='tanh', alpha=1, hidden_layer_sizes=20, max_iter=2500,\n",
       "              random_state=0, solver='lbfgs')</pre></div></div></div></div></div></div></div>"
      ],
      "text/plain": [
       "Pipeline(steps=[('columntransformer',\n",
       "                 ColumnTransformer(transformers=[('cat',\n",
       "                                                  OneHotEncoder(handle_unknown='ignore'),\n",
       "                                                  ['Windir16Point']),\n",
       "                                                 ('scaler', StandardScaler(),\n",
       "                                                  ['TempC', 'Windspeed(km/h)',\n",
       "                                                   'Humidity (%)',\n",
       "                                                   'Visibility (km)',\n",
       "                                                   'Pressure (mb)',\n",
       "                                                   'Cloudcover (%)'])])),\n",
       "                ('mlpclassifier',\n",
       "                 MLPClassifier(activation='tanh', alpha=1,\n",
       "                               hidden_layer_sizes=20, max_iter=2500,\n",
       "                               random_state=0, solver='lbfgs'))])"
      ]
     },
     "execution_count": 21,
     "metadata": {},
     "output_type": "execute_result"
    }
   ],
   "source": [
    "#Sau khi tìm được best alpha thì thực hiện lại công việc fit mô hình \n",
    "full_pipeline.set_params(mlpclassifier__alpha=best_alpha)\n",
    "full_pipeline.fit(X_df, y_sr)"
   ]
  },
  {
   "cell_type": "markdown",
   "metadata": {},
   "source": [
    "## 5. Đánh giá mô hình sau khi huấn luyện"
   ]
  },
  {
   "cell_type": "code",
   "execution_count": 22,
   "metadata": {},
   "outputs": [
    {
     "name": "stdout",
     "output_type": "stream",
     "text": [
      "Độ lỗi:  0.721 %\n"
     ]
    }
   ],
   "source": [
    "#Tính Toán độ lỗi của mô hình trên tập test_df\n",
    "print(\"Độ lỗi: \", round(100*(1 - full_pipeline.score(X_test, y_test)), 3),\"%\")"
   ]
  },
  {
   "cell_type": "code",
   "execution_count": 37,
   "metadata": {},
   "outputs": [],
   "source": [
    "#Dự đoán trên tập test\n",
    "pred = full_pipeline.predict(X_test)"
   ]
  },
  {
   "cell_type": "markdown",
   "metadata": {},
   "source": [
    "- Sau khi đã hoàn thành việc tạo model và chạy trên tập test thì em sẽ tạo ra một bảng mới có chứa những thông tin cơ bản của tập X_test và kết quả dự đoán(Prediction), thực tế(Actual) để so sánh.\n",
    "- Kết quả ở dưới show ra những kết quả mà khi dự đoán, model đã đoán sai so với thực tế."
   ]
  },
  {
   "cell_type": "code",
   "execution_count": 39,
   "metadata": {
    "scrolled": true
   },
   "outputs": [
    {
     "data": {
      "text/html": [
       "<div>\n",
       "<style scoped>\n",
       "    .dataframe tbody tr th:only-of-type {\n",
       "        vertical-align: middle;\n",
       "    }\n",
       "\n",
       "    .dataframe tbody tr th {\n",
       "        vertical-align: top;\n",
       "    }\n",
       "\n",
       "    .dataframe thead th {\n",
       "        text-align: right;\n",
       "    }\n",
       "</style>\n",
       "<table border=\"1\" class=\"dataframe\">\n",
       "  <thead>\n",
       "    <tr style=\"text-align: right;\">\n",
       "      <th></th>\n",
       "      <th>TempC</th>\n",
       "      <th>Windspeed(km/h)</th>\n",
       "      <th>Pressure (mb)</th>\n",
       "      <th>Cloudcover (%)</th>\n",
       "      <th>Prediction</th>\n",
       "      <th>Actual</th>\n",
       "    </tr>\n",
       "  </thead>\n",
       "  <tbody>\n",
       "    <tr>\n",
       "      <th>1625</th>\n",
       "      <td>24</td>\n",
       "      <td>11</td>\n",
       "      <td>1007</td>\n",
       "      <td>40</td>\n",
       "      <td>0</td>\n",
       "      <td>1</td>\n",
       "    </tr>\n",
       "    <tr>\n",
       "      <th>1263</th>\n",
       "      <td>28</td>\n",
       "      <td>15</td>\n",
       "      <td>1010</td>\n",
       "      <td>26</td>\n",
       "      <td>1</td>\n",
       "      <td>0</td>\n",
       "    </tr>\n",
       "    <tr>\n",
       "      <th>1440</th>\n",
       "      <td>31</td>\n",
       "      <td>18</td>\n",
       "      <td>1006</td>\n",
       "      <td>20</td>\n",
       "      <td>0</td>\n",
       "      <td>1</td>\n",
       "    </tr>\n",
       "  </tbody>\n",
       "</table>\n",
       "</div>"
      ],
      "text/plain": [
       "      TempC  Windspeed(km/h)  Pressure (mb)  Cloudcover (%)  Prediction  \\\n",
       "1625     24               11           1007              40           0   \n",
       "1263     28               15           1010              26           1   \n",
       "1440     31               18           1006              20           0   \n",
       "\n",
       "      Actual  \n",
       "1625       1  \n",
       "1263       0  \n",
       "1440       1  "
      ]
     },
     "execution_count": 39,
     "metadata": {},
     "output_type": "execute_result"
    }
   ],
   "source": [
    "compare_result = pd.DataFrame(index = y_test.index)\n",
    "compare_result[\"TempC\"] = X_test[\"TempC\"]\n",
    "compare_result[\"Windspeed(km/h)\"] = X_test[\"Windspeed(km/h)\"]\n",
    "compare_result[\"Pressure (mb)\"] = X_test[\"Pressure (mb)\"]\n",
    "compare_result[\"Cloudcover (%)\"] = X_test[\"Cloudcover (%)\"]\n",
    "compare_result[\"Prediction\"] = pred\n",
    "compare_result[\"Actual\"] = y_test\n",
    "\n",
    "compare_result[compare_result[\"Prediction\"] != compare_result[\"Actual\"]]"
   ]
  },
  {
   "cell_type": "markdown",
   "metadata": {},
   "source": [
    "# Như vậy, chúng ta đã có thể trả lời được câu hỏi \"Ngày hôm đó có mưa hay không?\" bằng những cơ sở toán học rồi.\n",
    "\n",
    "Mình mong đồ án này có thể giúp các bạn có thêm những hiểu biết mới về sự tương quan của các yếu tố thiên nhiên đến việc trời mưa hay không, hoặc ít nhất có thể củng cố kiến thức được học thông qua việc đọc code này."
   ]
  }
 ],
 "metadata": {
  "kernelspec": {
   "display_name": "Python 3",
   "language": "python",
   "name": "python3"
  },
  "language_info": {
   "codemirror_mode": {
    "name": "ipython",
    "version": 3
   },
   "file_extension": ".py",
   "mimetype": "text/x-python",
   "name": "python",
   "nbconvert_exporter": "python",
   "pygments_lexer": "ipython3",
   "version": "3.8.3"
  },
  "toc": {
   "base_numbering": 1,
   "nav_menu": {},
   "number_sections": true,
   "sideBar": true,
   "skip_h1_title": false,
   "title_cell": "Table of Contents",
   "title_sidebar": "Contents",
   "toc_cell": false,
   "toc_position": {},
   "toc_section_display": true,
   "toc_window_display": false
  }
 },
 "nbformat": 4,
 "nbformat_minor": 4
}
